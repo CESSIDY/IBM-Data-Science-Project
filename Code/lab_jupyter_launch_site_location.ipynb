{
 "metadata": {
  "kernelspec": {
   "name": "python",
   "display_name": "Python (Pyodide)",
   "language": "python"
  },
  "language_info": {
   "codemirror_mode": {
    "name": "python",
    "version": 3
   },
   "file_extension": ".py",
   "mimetype": "text/x-python",
   "name": "python",
   "nbconvert_exporter": "python",
   "pygments_lexer": "ipython3",
   "version": "3.8"
  }
 },
 "nbformat_minor": 4,
 "nbformat": 4,
 "cells": [
  {
   "cell_type": "markdown",
   "source": [
    "<p style=\"text-align:center\">\n",
    "    <a href=\"https://skills.network/?utm_medium=Exinfluencer&utm_source=Exinfluencer&utm_content=000026UJ&utm_term=10006555&utm_id=NA-SkillsNetwork-Channel-SkillsNetworkCoursesIBMDS0321ENSkillsNetwork26802033-2022-01-01\" target=\"_blank\">\n",
    "    <img src=\"https://cf-courses-data.s3.us.cloud-object-storage.appdomain.cloud/assets/logos/SN_web_lightmode.png\" width=\"200\" alt=\"Skills Network Logo\"  />\n",
    "    </a>\n",
    "</p>\n"
   ],
   "metadata": {}
  },
  {
   "cell_type": "markdown",
   "source": [
    "# **Launch Sites Locations Analysis with Folium**\n"
   ],
   "metadata": {}
  },
  {
   "cell_type": "markdown",
   "source": [
    "Estimated time needed: **40** minutes\n"
   ],
   "metadata": {}
  },
  {
   "cell_type": "markdown",
   "source": [
    "The launch success rate may depend on many factors such as payload mass, orbit type, and so on. It may also depend on the location and proximities of a launch site, i.e., the initial position of rocket trajectories. Finding an optimal location for building a launch site certainly involves many factors and hopefully we could discover some of the factors by analyzing the existing launch site locations.\n"
   ],
   "metadata": {}
  },
  {
   "cell_type": "markdown",
   "source": [
    "In the previous exploratory data analysis labs, you have visualized the SpaceX launch dataset using `matplotlib` and `seaborn` and discovered some preliminary correlations between the launch site and success rates. In this lab, you will be performing more interactive visual analytics using `Folium`.\n"
   ],
   "metadata": {}
  },
  {
   "cell_type": "markdown",
   "source": [
    "## Objectives\n"
   ],
   "metadata": {}
  },
  {
   "cell_type": "markdown",
   "source": [
    "This lab contains the following tasks:\n",
    "\n",
    "*   **TASK 1:** Mark all launch sites on a map\n",
    "*   **TASK 2:** Mark the success/failed launches for each site on the map\n",
    "*   **TASK 3:** Calculate the distances between a launch site to its proximities\n",
    "\n",
    "After completed the above tasks, you should be able to find some geographical patterns about launch sites.\n"
   ],
   "metadata": {}
  },
  {
   "cell_type": "markdown",
   "source": [
    "Let's first import required Python packages for this lab:\n"
   ],
   "metadata": {}
  },
  {
   "cell_type": "code",
   "source": [
    "import piplite\n",
    "await piplite.install(['folium'])\n",
    "await piplite.install(['pandas'])"
   ],
   "metadata": {
    "trusted": true
   },
   "outputs": [],
   "execution_count": 1
  },
  {
   "cell_type": "code",
   "source": [
    "import folium\n",
    "import pandas as pd"
   ],
   "metadata": {
    "trusted": true
   },
   "outputs": [],
   "execution_count": 2
  },
  {
   "cell_type": "code",
   "source": [
    "# Import folium MarkerCluster plugin\n",
    "from folium.plugins import MarkerCluster\n",
    "# Import folium MousePosition plugin\n",
    "from folium.plugins import MousePosition\n",
    "# Import folium DivIcon plugin\n",
    "from folium.features import DivIcon"
   ],
   "metadata": {
    "trusted": true
   },
   "outputs": [],
   "execution_count": 3
  },
  {
   "cell_type": "markdown",
   "source": [
    "If you need to refresh your memory about folium, you may download and refer to this previous folium lab:\n"
   ],
   "metadata": {}
  },
  {
   "cell_type": "markdown",
   "source": [
    "[Generating Maps with Python](https://cf-courses-data.s3.us.cloud-object-storage.appdomain.cloud/IBM-DS0321EN-SkillsNetwork/labs/module\\_3/DV0101EN-3-5-1-Generating-Maps-in-Python-py-v2.0.ipynb)\n"
   ],
   "metadata": {}
  },
  {
   "cell_type": "code",
   "source": [
    "## Task 1: Mark all launch sites on a map\n",
    "world_map = folium.Map(location=[56.130, -106.35], zoom_start=8)"
   ],
   "metadata": {
    "trusted": true
   },
   "outputs": [],
   "execution_count": 4
  },
  {
   "cell_type": "markdown",
   "source": [
    "First, let's try to add each site's location on a map using site's latitude and longitude coordinates\n"
   ],
   "metadata": {}
  },
  {
   "cell_type": "markdown",
   "source": [
    "The following dataset with the name `spacex_launch_geo.csv` is an augmented dataset with latitude and longitude added for each site.\n"
   ],
   "metadata": {}
  },
  {
   "cell_type": "code",
   "source": [
    "# Download and read the `spacex_launch_geo.csv`\n",
    "from js import fetch\n",
    "import io\n",
    "\n",
    "URL = 'https://cf-courses-data.s3.us.cloud-object-storage.appdomain.cloud/IBM-DS0321EN-SkillsNetwork/datasets/spacex_launch_geo.csv'\n",
    "resp = await fetch(URL)\n",
    "spacex_csv_file = io.BytesIO((await resp.arrayBuffer()).to_py())\n",
    "spacex_df=pd.read_csv(spacex_csv_file)"
   ],
   "metadata": {
    "trusted": true
   },
   "outputs": [],
   "execution_count": 5
  },
  {
   "cell_type": "markdown",
   "source": [
    "Now, you can take a look at what are the coordinates for each site.\n"
   ],
   "metadata": {}
  },
  {
   "cell_type": "code",
   "source": [
    "# Select relevant sub-columns: `Launch Site`, `Lat(Latitude)`, `Long(Longitude)`, `class`\n",
    "spacex_df = spacex_df[['Launch Site', 'Lat', 'Long', 'class']]\n",
    "launch_sites_df = spacex_df.groupby(['Launch Site'], as_index=False).first()\n",
    "launch_sites_df = launch_sites_df[['Launch Site', 'Lat', 'Long']]\n",
    "launch_sites_df"
   ],
   "metadata": {
    "trusted": true
   },
   "outputs": [
    {
     "execution_count": 6,
     "output_type": "execute_result",
     "data": {
      "text/plain": "    Launch Site        Lat        Long\n0   CCAFS LC-40  28.562302  -80.577356\n1  CCAFS SLC-40  28.563197  -80.576820\n2    KSC LC-39A  28.573255  -80.646895\n3   VAFB SLC-4E  34.632834 -120.610745",
      "text/html": "<div>\n<style scoped>\n    .dataframe tbody tr th:only-of-type {\n        vertical-align: middle;\n    }\n\n    .dataframe tbody tr th {\n        vertical-align: top;\n    }\n\n    .dataframe thead th {\n        text-align: right;\n    }\n</style>\n<table border=\"1\" class=\"dataframe\">\n  <thead>\n    <tr style=\"text-align: right;\">\n      <th></th>\n      <th>Launch Site</th>\n      <th>Lat</th>\n      <th>Long</th>\n    </tr>\n  </thead>\n  <tbody>\n    <tr>\n      <th>0</th>\n      <td>CCAFS LC-40</td>\n      <td>28.562302</td>\n      <td>-80.577356</td>\n    </tr>\n    <tr>\n      <th>1</th>\n      <td>CCAFS SLC-40</td>\n      <td>28.563197</td>\n      <td>-80.576820</td>\n    </tr>\n    <tr>\n      <th>2</th>\n      <td>KSC LC-39A</td>\n      <td>28.573255</td>\n      <td>-80.646895</td>\n    </tr>\n    <tr>\n      <th>3</th>\n      <td>VAFB SLC-4E</td>\n      <td>34.632834</td>\n      <td>-120.610745</td>\n    </tr>\n  </tbody>\n</table>\n</div>"
     },
     "metadata": {}
    }
   ],
   "execution_count": 6
  },
  {
   "cell_type": "markdown",
   "source": [
    "Above coordinates are just plain numbers that can not give you any intuitive insights about where are those launch sites. If you are very good at geography, you can interpret those numbers directly in your mind. If not, that's fine too. Let's visualize those locations by pinning them on a map.\n"
   ],
   "metadata": {}
  },
  {
   "cell_type": "markdown",
   "source": [
    "We first need to create a folium `Map` object, with an initial center location to be NASA Johnson Space Center at Houston, Texas.\n"
   ],
   "metadata": {}
  },
  {
   "cell_type": "code",
   "source": [
    "# Start location is NASA Johnson Space Center\n",
    "nasa_coordinate = [29.559684888503615, -95.0830971930759]\n",
    "site_map = folium.Map(location=nasa_coordinate, zoom_start=10)"
   ],
   "metadata": {
    "trusted": true
   },
   "outputs": [],
   "execution_count": 7
  },
  {
   "cell_type": "markdown",
   "source": [
    "We could use `folium.Circle` to add a highlighted circle area with a text label on a specific coordinate. For example,\n"
   ],
   "metadata": {}
  },
  {
   "cell_type": "code",
   "source": [
    "# Create a blue circle at NASA Johnson Space Center's coordinate with a popup label showing its name\n",
    "circle = folium.Circle(nasa_coordinate, radius=1000, color='#d35400', fill=True).add_child(folium.Popup('NASA Johnson Space Center'))\n",
    "# Create a blue circle at NASA Johnson Space Center's coordinate with a icon showing its name\n",
    "marker = folium.map.Marker(\n",
    "    nasa_coordinate,\n",
    "    # Create an icon as a text label\n",
    "    icon=DivIcon(\n",
    "        icon_size=(20,20),\n",
    "        icon_anchor=(0,0),\n",
    "        html='<div style=\"font-size: 12; color:#d35400;\"><b>%s</b></div>' % 'NASA JSC',\n",
    "        )\n",
    "    )\n",
    "site_map.add_child(circle)\n",
    "site_map.add_child(marker)"
   ],
   "metadata": {
    "trusted": true,
    "scrolled": true
   },
   "outputs": [
    {
     "execution_count": 7,
     "output_type": "execute_result",
     "data": {
      "text/plain": "<folium.folium.Map at 0x12370d0>",
      "text/html": "<div style=\"width:100%;\"><div style=\"position:relative;width:100%;height:0;padding-bottom:60%;\"><span style=\"color:#565656\">Make this Notebook Trusted to load map: File -> Trust Notebook</span><iframe srcdoc=\"&lt;!DOCTYPE html&gt;\n&lt;html&gt;\n&lt;head&gt;\n    \n    &lt;meta http-equiv=&quot;content-type&quot; content=&quot;text/html; charset=UTF-8&quot; /&gt;\n    \n        &lt;script&gt;\n            L_NO_TOUCH = false;\n            L_DISABLE_3D = false;\n        &lt;/script&gt;\n    \n    &lt;style&gt;html, body {width: 100%;height: 100%;margin: 0;padding: 0;}&lt;/style&gt;\n    &lt;style&gt;#map {position:absolute;top:0;bottom:0;right:0;left:0;}&lt;/style&gt;\n    &lt;script src=&quot;https://cdn.jsdelivr.net/npm/leaflet@1.9.3/dist/leaflet.js&quot;&gt;&lt;/script&gt;\n    &lt;script src=&quot;https://code.jquery.com/jquery-3.7.1.min.js&quot;&gt;&lt;/script&gt;\n    &lt;script src=&quot;https://cdn.jsdelivr.net/npm/bootstrap@5.2.2/dist/js/bootstrap.bundle.min.js&quot;&gt;&lt;/script&gt;\n    &lt;script src=&quot;https://cdnjs.cloudflare.com/ajax/libs/Leaflet.awesome-markers/2.0.2/leaflet.awesome-markers.js&quot;&gt;&lt;/script&gt;\n    &lt;link rel=&quot;stylesheet&quot; href=&quot;https://cdn.jsdelivr.net/npm/leaflet@1.9.3/dist/leaflet.css&quot;/&gt;\n    &lt;link rel=&quot;stylesheet&quot; href=&quot;https://cdn.jsdelivr.net/npm/bootstrap@5.2.2/dist/css/bootstrap.min.css&quot;/&gt;\n    &lt;link rel=&quot;stylesheet&quot; href=&quot;https://netdna.bootstrapcdn.com/bootstrap/3.0.0/css/bootstrap.min.css&quot;/&gt;\n    &lt;link rel=&quot;stylesheet&quot; href=&quot;https://cdn.jsdelivr.net/npm/@fortawesome/fontawesome-free@6.2.0/css/all.min.css&quot;/&gt;\n    &lt;link rel=&quot;stylesheet&quot; href=&quot;https://cdnjs.cloudflare.com/ajax/libs/Leaflet.awesome-markers/2.0.2/leaflet.awesome-markers.css&quot;/&gt;\n    &lt;link rel=&quot;stylesheet&quot; href=&quot;https://cdn.jsdelivr.net/gh/python-visualization/folium/folium/templates/leaflet.awesome.rotate.min.css&quot;/&gt;\n    \n            &lt;meta name=&quot;viewport&quot; content=&quot;width=device-width,\n                initial-scale=1.0, maximum-scale=1.0, user-scalable=no&quot; /&gt;\n            &lt;style&gt;\n                #map_0c0fe515dcdfc55bc40b7c151a041ec5 {\n                    position: relative;\n                    width: 100.0%;\n                    height: 100.0%;\n                    left: 0.0%;\n                    top: 0.0%;\n                }\n                .leaflet-container { font-size: 1rem; }\n            &lt;/style&gt;\n        \n&lt;/head&gt;\n&lt;body&gt;\n    \n    \n            &lt;div class=&quot;folium-map&quot; id=&quot;map_0c0fe515dcdfc55bc40b7c151a041ec5&quot; &gt;&lt;/div&gt;\n        \n&lt;/body&gt;\n&lt;script&gt;\n    \n    \n            var map_0c0fe515dcdfc55bc40b7c151a041ec5 = L.map(\n                &quot;map_0c0fe515dcdfc55bc40b7c151a041ec5&quot;,\n                {\n                    center: [29.559684888503615, -95.0830971930759],\n                    crs: L.CRS.EPSG3857,\n                    zoom: 10,\n                    zoomControl: true,\n                    preferCanvas: false,\n                }\n            );\n\n            \n\n        \n    \n            var tile_layer_ba392fb335901bf3675c29fa370800a4 = L.tileLayer(\n                &quot;https://tile.openstreetmap.org/{z}/{x}/{y}.png&quot;,\n                {&quot;attribution&quot;: &quot;\\u0026copy; \\u003ca href=\\&quot;https://www.openstreetmap.org/copyright\\&quot;\\u003eOpenStreetMap\\u003c/a\\u003e contributors&quot;, &quot;detectRetina&quot;: false, &quot;maxNativeZoom&quot;: 19, &quot;maxZoom&quot;: 19, &quot;minZoom&quot;: 0, &quot;noWrap&quot;: false, &quot;opacity&quot;: 1, &quot;subdomains&quot;: &quot;abc&quot;, &quot;tms&quot;: false}\n            );\n        \n    \n            tile_layer_ba392fb335901bf3675c29fa370800a4.addTo(map_0c0fe515dcdfc55bc40b7c151a041ec5);\n        \n    \n            var circle_16cc3b485aa0664a1a1ad5886b65581f = L.circle(\n                [29.559684888503615, -95.0830971930759],\n                {&quot;bubblingMouseEvents&quot;: true, &quot;color&quot;: &quot;#d35400&quot;, &quot;dashArray&quot;: null, &quot;dashOffset&quot;: null, &quot;fill&quot;: true, &quot;fillColor&quot;: &quot;#d35400&quot;, &quot;fillOpacity&quot;: 0.2, &quot;fillRule&quot;: &quot;evenodd&quot;, &quot;lineCap&quot;: &quot;round&quot;, &quot;lineJoin&quot;: &quot;round&quot;, &quot;opacity&quot;: 1.0, &quot;radius&quot;: 1000, &quot;stroke&quot;: true, &quot;weight&quot;: 3}\n            ).addTo(map_0c0fe515dcdfc55bc40b7c151a041ec5);\n        \n    \n        var popup_3920a18be2f947fd2d71d7d96c3953b1 = L.popup({&quot;maxWidth&quot;: &quot;100%&quot;});\n\n        \n            \n                var html_642fd6b9d933cd25a1ba2b6c9ee409f8 = $(`&lt;div id=&quot;html_642fd6b9d933cd25a1ba2b6c9ee409f8&quot; style=&quot;width: 100.0%; height: 100.0%;&quot;&gt;NASA Johnson Space Center&lt;/div&gt;`)[0];\n                popup_3920a18be2f947fd2d71d7d96c3953b1.setContent(html_642fd6b9d933cd25a1ba2b6c9ee409f8);\n            \n        \n\n        circle_16cc3b485aa0664a1a1ad5886b65581f.bindPopup(popup_3920a18be2f947fd2d71d7d96c3953b1)\n        ;\n\n        \n    \n    \n            var marker_686e7fc7bd168844ec18e3c184230824 = L.marker(\n                [29.559684888503615, -95.0830971930759],\n                {}\n            ).addTo(map_0c0fe515dcdfc55bc40b7c151a041ec5);\n        \n    \n            var div_icon_26ed1ca5e0c523ea2bfe6896770226ce = L.divIcon({&quot;className&quot;: &quot;empty&quot;, &quot;html&quot;: &quot;\\u003cdiv style=\\&quot;font-size: 12; color:#d35400;\\&quot;\\u003e\\u003cb\\u003eNASA JSC\\u003c/b\\u003e\\u003c/div\\u003e&quot;, &quot;iconAnchor&quot;: [0, 0], &quot;iconSize&quot;: [20, 20]});\n            marker_686e7fc7bd168844ec18e3c184230824.setIcon(div_icon_26ed1ca5e0c523ea2bfe6896770226ce);\n        \n&lt;/script&gt;\n&lt;/html&gt;\" style=\"position:absolute;width:100%;height:100%;left:0;top:0;border:none !important;\" allowfullscreen webkitallowfullscreen mozallowfullscreen></iframe></div></div>"
     },
     "metadata": {}
    }
   ],
   "execution_count": 7
  },
  {
   "cell_type": "markdown",
   "source": [
    "and you should find a small yellow circle near the city of Houston and you can zoom-in to see a larger circle.\n"
   ],
   "metadata": {}
  },
  {
   "cell_type": "markdown",
   "source": [
    "Now, let's add a circle for each launch site in data frame `launch_sites`\n"
   ],
   "metadata": {}
  },
  {
   "cell_type": "markdown",
   "source": [
    "*TODO:*  Create and add `folium.Circle` and `folium.Marker` for each launch site on the site map\n"
   ],
   "metadata": {}
  },
  {
   "cell_type": "markdown",
   "source": [
    "An example of folium.Circle:\n"
   ],
   "metadata": {}
  },
  {
   "cell_type": "markdown",
   "source": [
    "`folium.Circle(coordinate, radius=1000, color='#000000', fill=True).add_child(folium.Popup(...))`\n"
   ],
   "metadata": {}
  },
  {
   "cell_type": "markdown",
   "source": [
    "An example of folium.Marker:\n"
   ],
   "metadata": {}
  },
  {
   "cell_type": "markdown",
   "source": [
    "`folium.map.Marker(coordinate, icon=DivIcon(icon_size=(20,20),icon_anchor=(0,0), html='<div style=\"font-size: 12; color:#d35400;\"><b>%s</b></div>' % 'label', ))`\n"
   ],
   "metadata": {}
  },
  {
   "cell_type": "code",
   "source": [
    "# Initial the map\n",
    "site_map = folium.Map(location=nasa_coordinate, zoom_start=5)\n",
    "# For each launch site, add a Circle object based on its coordinate (Lat, Long) values. In addition, add Launch site name as a popup label\n"
   ],
   "metadata": {
    "trusted": true
   },
   "outputs": [],
   "execution_count": 8
  },
  {
   "cell_type": "markdown",
   "source": [
    "The generated map with marked launch sites should look similar to the following:\n"
   ],
   "metadata": {}
  },
  {
   "cell_type": "markdown",
   "source": [
    "<center>\n",
    "    <img src=\"https://cf-courses-data.s3.us.cloud-object-storage.appdomain.cloud/IBM-DS0321EN-SkillsNetwork/labs/module_3/images/launch_site_markers.png\">\n",
    "</center>\n"
   ],
   "metadata": {}
  },
  {
   "cell_type": "markdown",
   "source": [
    "Now, you can explore the map by zoom-in/out the marked areas\n",
    ", and try to answer the following questions:\n",
    "\n",
    "*   Are all launch sites in proximity to the Equator line?\n",
    "*   Are all launch sites in very close proximity to the coast?\n",
    "\n",
    "Also please try to explain your findings.\n"
   ],
   "metadata": {}
  },
  {
   "cell_type": "code",
   "source": [
    "spacex_df.head()"
   ],
   "metadata": {
    "trusted": true
   },
   "outputs": [
    {
     "execution_count": 9,
     "output_type": "execute_result",
     "data": {
      "text/plain": "   Launch Site        Lat       Long  class\n0  CCAFS LC-40  28.562302 -80.577356      0\n1  CCAFS LC-40  28.562302 -80.577356      0\n2  CCAFS LC-40  28.562302 -80.577356      0\n3  CCAFS LC-40  28.562302 -80.577356      0\n4  CCAFS LC-40  28.562302 -80.577356      0",
      "text/html": "<div>\n<style scoped>\n    .dataframe tbody tr th:only-of-type {\n        vertical-align: middle;\n    }\n\n    .dataframe tbody tr th {\n        vertical-align: top;\n    }\n\n    .dataframe thead th {\n        text-align: right;\n    }\n</style>\n<table border=\"1\" class=\"dataframe\">\n  <thead>\n    <tr style=\"text-align: right;\">\n      <th></th>\n      <th>Launch Site</th>\n      <th>Lat</th>\n      <th>Long</th>\n      <th>class</th>\n    </tr>\n  </thead>\n  <tbody>\n    <tr>\n      <th>0</th>\n      <td>CCAFS LC-40</td>\n      <td>28.562302</td>\n      <td>-80.577356</td>\n      <td>0</td>\n    </tr>\n    <tr>\n      <th>1</th>\n      <td>CCAFS LC-40</td>\n      <td>28.562302</td>\n      <td>-80.577356</td>\n      <td>0</td>\n    </tr>\n    <tr>\n      <th>2</th>\n      <td>CCAFS LC-40</td>\n      <td>28.562302</td>\n      <td>-80.577356</td>\n      <td>0</td>\n    </tr>\n    <tr>\n      <th>3</th>\n      <td>CCAFS LC-40</td>\n      <td>28.562302</td>\n      <td>-80.577356</td>\n      <td>0</td>\n    </tr>\n    <tr>\n      <th>4</th>\n      <td>CCAFS LC-40</td>\n      <td>28.562302</td>\n      <td>-80.577356</td>\n      <td>0</td>\n    </tr>\n  </tbody>\n</table>\n</div>"
     },
     "metadata": {}
    }
   ],
   "execution_count": 9
  },
  {
   "cell_type": "code",
   "source": [
    "spacex_df[['Lat', 'Long']] = spacex_df[['Lat', 'Long']].astype(float)\n",
    "spacex_df[['class']] = spacex_df[['class']].astype(int)\n",
    "launch_sites_df[['Lat', 'Long']] = launch_sites_df[['Lat', 'Long']].astype(float)\n"
   ],
   "metadata": {
    "trusted": true,
    "scrolled": true
   },
   "outputs": [],
   "execution_count": 10
  },
  {
   "cell_type": "code",
   "source": [
    "spacex_df.head()"
   ],
   "metadata": {
    "trusted": true
   },
   "outputs": [
    {
     "execution_count": 11,
     "output_type": "execute_result",
     "data": {
      "text/plain": "   Launch Site        Lat       Long  class\n0  CCAFS LC-40  28.562302 -80.577356      0\n1  CCAFS LC-40  28.562302 -80.577356      0\n2  CCAFS LC-40  28.562302 -80.577356      0\n3  CCAFS LC-40  28.562302 -80.577356      0\n4  CCAFS LC-40  28.562302 -80.577356      0",
      "text/html": "<div>\n<style scoped>\n    .dataframe tbody tr th:only-of-type {\n        vertical-align: middle;\n    }\n\n    .dataframe tbody tr th {\n        vertical-align: top;\n    }\n\n    .dataframe thead th {\n        text-align: right;\n    }\n</style>\n<table border=\"1\" class=\"dataframe\">\n  <thead>\n    <tr style=\"text-align: right;\">\n      <th></th>\n      <th>Launch Site</th>\n      <th>Lat</th>\n      <th>Long</th>\n      <th>class</th>\n    </tr>\n  </thead>\n  <tbody>\n    <tr>\n      <th>0</th>\n      <td>CCAFS LC-40</td>\n      <td>28.562302</td>\n      <td>-80.577356</td>\n      <td>0</td>\n    </tr>\n    <tr>\n      <th>1</th>\n      <td>CCAFS LC-40</td>\n      <td>28.562302</td>\n      <td>-80.577356</td>\n      <td>0</td>\n    </tr>\n    <tr>\n      <th>2</th>\n      <td>CCAFS LC-40</td>\n      <td>28.562302</td>\n      <td>-80.577356</td>\n      <td>0</td>\n    </tr>\n    <tr>\n      <th>3</th>\n      <td>CCAFS LC-40</td>\n      <td>28.562302</td>\n      <td>-80.577356</td>\n      <td>0</td>\n    </tr>\n    <tr>\n      <th>4</th>\n      <td>CCAFS LC-40</td>\n      <td>28.562302</td>\n      <td>-80.577356</td>\n      <td>0</td>\n    </tr>\n  </tbody>\n</table>\n</div>"
     },
     "metadata": {}
    }
   ],
   "execution_count": 11
  },
  {
   "cell_type": "code",
   "source": [
    "spacex_df.groupby(['Launch Site'], as_index=False).count()['class']"
   ],
   "metadata": {
    "trusted": true
   },
   "outputs": [
    {
     "execution_count": 12,
     "output_type": "execute_result",
     "data": {
      "text/plain": "0    26\n1     7\n2    13\n3    10\nName: class, dtype: int64"
     },
     "metadata": {}
    }
   ],
   "execution_count": 12
  },
  {
   "cell_type": "code",
   "source": [
    "success_launches = spacex_df.groupby(['Launch Site'], as_index=False).sum('class')['class']\n",
    "failed_launches = spacex_df.groupby(['Launch Site'], as_index=False).count()['class'] - success_launches\n",
    "failed_launches"
   ],
   "metadata": {
    "trusted": true
   },
   "outputs": [
    {
     "execution_count": 13,
     "output_type": "execute_result",
     "data": {
      "text/plain": "0    19\n1     4\n2     3\n3     6\nName: class, dtype: int64"
     },
     "metadata": {}
    }
   ],
   "execution_count": 13
  },
  {
   "cell_type": "code",
   "source": [
    "print(len(launch_sites_df), len(launch_sites_df))"
   ],
   "metadata": {
    "trusted": true
   },
   "outputs": [
    {
     "name": "stdout",
     "text": "4 4\n",
     "output_type": "stream"
    }
   ],
   "execution_count": 14
  },
  {
   "cell_type": "code",
   "source": [
    "spacex_df.groupby(['Launch Site'], as_index=False).sum('class')\n",
    "success_launches = spacex_df.groupby(['Launch Site'], as_index=False).sum('class')['class']\n",
    "failed_launches = spacex_df.groupby(['Launch Site'], as_index=False).count()['class'] - success_launches\n",
    "\n",
    "launch_sites_df['failed'] = failed_launches\n",
    "launch_sites_df['success'] = success_launches"
   ],
   "metadata": {
    "trusted": true
   },
   "outputs": [],
   "execution_count": 15
  },
  {
   "cell_type": "code",
   "source": [
    "launch_sites_df.head()"
   ],
   "metadata": {
    "trusted": true
   },
   "outputs": [
    {
     "execution_count": 16,
     "output_type": "execute_result",
     "data": {
      "text/plain": "    Launch Site        Lat        Long  failed  success\n0   CCAFS LC-40  28.562302  -80.577356      19        7\n1  CCAFS SLC-40  28.563197  -80.576820       4        3\n2    KSC LC-39A  28.573255  -80.646895       3       10\n3   VAFB SLC-4E  34.632834 -120.610745       6        4",
      "text/html": "<div>\n<style scoped>\n    .dataframe tbody tr th:only-of-type {\n        vertical-align: middle;\n    }\n\n    .dataframe tbody tr th {\n        vertical-align: top;\n    }\n\n    .dataframe thead th {\n        text-align: right;\n    }\n</style>\n<table border=\"1\" class=\"dataframe\">\n  <thead>\n    <tr style=\"text-align: right;\">\n      <th></th>\n      <th>Launch Site</th>\n      <th>Lat</th>\n      <th>Long</th>\n      <th>failed</th>\n      <th>success</th>\n    </tr>\n  </thead>\n  <tbody>\n    <tr>\n      <th>0</th>\n      <td>CCAFS LC-40</td>\n      <td>28.562302</td>\n      <td>-80.577356</td>\n      <td>19</td>\n      <td>7</td>\n    </tr>\n    <tr>\n      <th>1</th>\n      <td>CCAFS SLC-40</td>\n      <td>28.563197</td>\n      <td>-80.576820</td>\n      <td>4</td>\n      <td>3</td>\n    </tr>\n    <tr>\n      <th>2</th>\n      <td>KSC LC-39A</td>\n      <td>28.573255</td>\n      <td>-80.646895</td>\n      <td>3</td>\n      <td>10</td>\n    </tr>\n    <tr>\n      <th>3</th>\n      <td>VAFB SLC-4E</td>\n      <td>34.632834</td>\n      <td>-120.610745</td>\n      <td>6</td>\n      <td>4</td>\n    </tr>\n  </tbody>\n</table>\n</div>"
     },
     "metadata": {}
    }
   ],
   "execution_count": 16
  },
  {
   "cell_type": "code",
   "source": [
    "# Task 2: Mark the success/failed launches for each site on the map\n",
    "# spacex_df = spacex_df[['Launch Site', 'Lat', 'Long', 'class']]\n",
    "# launch_sites_df = spacex_df.groupby(['Launch Site'], as_index=False).first()\n",
    "# launch_sites_df = launch_sites_df[['Launch Site', 'Lat', 'Long']]\n",
    "# launch_sites_df\n",
    "site_map = folium.Map(location=nasa_coordinate, zoom_start=5)\n",
    "\n",
    "for index, row in launch_sites_df.iterrows():\n",
    "    marker_color = '#EB4C42FF'\n",
    "\n",
    "    point_coordinates = (row[1], row[2])\n",
    "    circle = folium.Circle(point_coordinates, radius=1000, color=marker_color, fill=True).add_child(folium.Popup(f\"Success: {row[3]} | Failed: {row[4]}\"))\n",
    "    # Create a blue circle at NASA Johnson Space Center's coordinate with a icon showing its name\n",
    "    marker = folium.map.Marker(\n",
    "        point_coordinates,\n",
    "        # Create an icon as a text label\n",
    "        icon=DivIcon(\n",
    "            icon_size=(20,20),\n",
    "            icon_anchor=(0,0),\n",
    "            html=f'<div style=\"font-size: 12; color:{marker_color};\"><b>{row[0]}</b></div>',\n",
    "            )\n",
    "        )\n",
    "    site_map.add_child(circle)\n",
    "    site_map.add_child(marker)\n",
    "site_map"
   ],
   "metadata": {
    "trusted": true,
    "scrolled": true
   },
   "outputs": [
    {
     "execution_count": 17,
     "output_type": "execute_result",
     "data": {
      "text/plain": "<folium.folium.Map at 0x5a8ef18>",
      "text/html": "<div style=\"width:100%;\"><div style=\"position:relative;width:100%;height:0;padding-bottom:60%;\"><span style=\"color:#565656\">Make this Notebook Trusted to load map: File -> Trust Notebook</span><iframe srcdoc=\"&lt;!DOCTYPE html&gt;\n&lt;html&gt;\n&lt;head&gt;\n    \n    &lt;meta http-equiv=&quot;content-type&quot; content=&quot;text/html; charset=UTF-8&quot; /&gt;\n    \n        &lt;script&gt;\n            L_NO_TOUCH = false;\n            L_DISABLE_3D = false;\n        &lt;/script&gt;\n    \n    &lt;style&gt;html, body {width: 100%;height: 100%;margin: 0;padding: 0;}&lt;/style&gt;\n    &lt;style&gt;#map {position:absolute;top:0;bottom:0;right:0;left:0;}&lt;/style&gt;\n    &lt;script src=&quot;https://cdn.jsdelivr.net/npm/leaflet@1.9.3/dist/leaflet.js&quot;&gt;&lt;/script&gt;\n    &lt;script src=&quot;https://code.jquery.com/jquery-3.7.1.min.js&quot;&gt;&lt;/script&gt;\n    &lt;script src=&quot;https://cdn.jsdelivr.net/npm/bootstrap@5.2.2/dist/js/bootstrap.bundle.min.js&quot;&gt;&lt;/script&gt;\n    &lt;script src=&quot;https://cdnjs.cloudflare.com/ajax/libs/Leaflet.awesome-markers/2.0.2/leaflet.awesome-markers.js&quot;&gt;&lt;/script&gt;\n    &lt;link rel=&quot;stylesheet&quot; href=&quot;https://cdn.jsdelivr.net/npm/leaflet@1.9.3/dist/leaflet.css&quot;/&gt;\n    &lt;link rel=&quot;stylesheet&quot; href=&quot;https://cdn.jsdelivr.net/npm/bootstrap@5.2.2/dist/css/bootstrap.min.css&quot;/&gt;\n    &lt;link rel=&quot;stylesheet&quot; href=&quot;https://netdna.bootstrapcdn.com/bootstrap/3.0.0/css/bootstrap.min.css&quot;/&gt;\n    &lt;link rel=&quot;stylesheet&quot; href=&quot;https://cdn.jsdelivr.net/npm/@fortawesome/fontawesome-free@6.2.0/css/all.min.css&quot;/&gt;\n    &lt;link rel=&quot;stylesheet&quot; href=&quot;https://cdnjs.cloudflare.com/ajax/libs/Leaflet.awesome-markers/2.0.2/leaflet.awesome-markers.css&quot;/&gt;\n    &lt;link rel=&quot;stylesheet&quot; href=&quot;https://cdn.jsdelivr.net/gh/python-visualization/folium/folium/templates/leaflet.awesome.rotate.min.css&quot;/&gt;\n    \n            &lt;meta name=&quot;viewport&quot; content=&quot;width=device-width,\n                initial-scale=1.0, maximum-scale=1.0, user-scalable=no&quot; /&gt;\n            &lt;style&gt;\n                #map_908fd8a9e16e95b3fdebbcabfcdf26ab {\n                    position: relative;\n                    width: 100.0%;\n                    height: 100.0%;\n                    left: 0.0%;\n                    top: 0.0%;\n                }\n                .leaflet-container { font-size: 1rem; }\n            &lt;/style&gt;\n        \n&lt;/head&gt;\n&lt;body&gt;\n    \n    \n            &lt;div class=&quot;folium-map&quot; id=&quot;map_908fd8a9e16e95b3fdebbcabfcdf26ab&quot; &gt;&lt;/div&gt;\n        \n&lt;/body&gt;\n&lt;script&gt;\n    \n    \n            var map_908fd8a9e16e95b3fdebbcabfcdf26ab = L.map(\n                &quot;map_908fd8a9e16e95b3fdebbcabfcdf26ab&quot;,\n                {\n                    center: [29.559684888503615, -95.0830971930759],\n                    crs: L.CRS.EPSG3857,\n                    zoom: 5,\n                    zoomControl: true,\n                    preferCanvas: false,\n                }\n            );\n\n            \n\n        \n    \n            var tile_layer_348969736f7a012cde682503a9a7fc34 = L.tileLayer(\n                &quot;https://tile.openstreetmap.org/{z}/{x}/{y}.png&quot;,\n                {&quot;attribution&quot;: &quot;\\u0026copy; \\u003ca href=\\&quot;https://www.openstreetmap.org/copyright\\&quot;\\u003eOpenStreetMap\\u003c/a\\u003e contributors&quot;, &quot;detectRetina&quot;: false, &quot;maxNativeZoom&quot;: 19, &quot;maxZoom&quot;: 19, &quot;minZoom&quot;: 0, &quot;noWrap&quot;: false, &quot;opacity&quot;: 1, &quot;subdomains&quot;: &quot;abc&quot;, &quot;tms&quot;: false}\n            );\n        \n    \n            tile_layer_348969736f7a012cde682503a9a7fc34.addTo(map_908fd8a9e16e95b3fdebbcabfcdf26ab);\n        \n    \n            var circle_f30ce380de9601c5b1fc90cdb154b27d = L.circle(\n                [28.56230197, -80.57735648],\n                {&quot;bubblingMouseEvents&quot;: true, &quot;color&quot;: &quot;#EB4C42FF&quot;, &quot;dashArray&quot;: null, &quot;dashOffset&quot;: null, &quot;fill&quot;: true, &quot;fillColor&quot;: &quot;#EB4C42FF&quot;, &quot;fillOpacity&quot;: 0.2, &quot;fillRule&quot;: &quot;evenodd&quot;, &quot;lineCap&quot;: &quot;round&quot;, &quot;lineJoin&quot;: &quot;round&quot;, &quot;opacity&quot;: 1.0, &quot;radius&quot;: 1000, &quot;stroke&quot;: true, &quot;weight&quot;: 3}\n            ).addTo(map_908fd8a9e16e95b3fdebbcabfcdf26ab);\n        \n    \n        var popup_3c4bbbac85a395a3bc2ba8bf48d7023f = L.popup({&quot;maxWidth&quot;: &quot;100%&quot;});\n\n        \n            \n                var html_0884f80613c86e1a40a37e9496c6fd9f = $(`&lt;div id=&quot;html_0884f80613c86e1a40a37e9496c6fd9f&quot; style=&quot;width: 100.0%; height: 100.0%;&quot;&gt;Success: 19 | Failed: 7&lt;/div&gt;`)[0];\n                popup_3c4bbbac85a395a3bc2ba8bf48d7023f.setContent(html_0884f80613c86e1a40a37e9496c6fd9f);\n            \n        \n\n        circle_f30ce380de9601c5b1fc90cdb154b27d.bindPopup(popup_3c4bbbac85a395a3bc2ba8bf48d7023f)\n        ;\n\n        \n    \n    \n            var marker_41a638e57c8288fb8e46debbed98ce58 = L.marker(\n                [28.56230197, -80.57735648],\n                {}\n            ).addTo(map_908fd8a9e16e95b3fdebbcabfcdf26ab);\n        \n    \n            var div_icon_f9c01fe24245530a42308b998d7af6d6 = L.divIcon({&quot;className&quot;: &quot;empty&quot;, &quot;html&quot;: &quot;\\u003cdiv style=\\&quot;font-size: 12; color:#EB4C42FF;\\&quot;\\u003e\\u003cb\\u003eCCAFS LC-40\\u003c/b\\u003e\\u003c/div\\u003e&quot;, &quot;iconAnchor&quot;: [0, 0], &quot;iconSize&quot;: [20, 20]});\n            marker_41a638e57c8288fb8e46debbed98ce58.setIcon(div_icon_f9c01fe24245530a42308b998d7af6d6);\n        \n    \n            var circle_ef2421873ce0e33df9ee7b7f40f2a615 = L.circle(\n                [28.56319718, -80.57682003],\n                {&quot;bubblingMouseEvents&quot;: true, &quot;color&quot;: &quot;#EB4C42FF&quot;, &quot;dashArray&quot;: null, &quot;dashOffset&quot;: null, &quot;fill&quot;: true, &quot;fillColor&quot;: &quot;#EB4C42FF&quot;, &quot;fillOpacity&quot;: 0.2, &quot;fillRule&quot;: &quot;evenodd&quot;, &quot;lineCap&quot;: &quot;round&quot;, &quot;lineJoin&quot;: &quot;round&quot;, &quot;opacity&quot;: 1.0, &quot;radius&quot;: 1000, &quot;stroke&quot;: true, &quot;weight&quot;: 3}\n            ).addTo(map_908fd8a9e16e95b3fdebbcabfcdf26ab);\n        \n    \n        var popup_07142396801a95845f6bd9c9496dfd77 = L.popup({&quot;maxWidth&quot;: &quot;100%&quot;});\n\n        \n            \n                var html_07804082d5f473112963b16de22e7172 = $(`&lt;div id=&quot;html_07804082d5f473112963b16de22e7172&quot; style=&quot;width: 100.0%; height: 100.0%;&quot;&gt;Success: 4 | Failed: 3&lt;/div&gt;`)[0];\n                popup_07142396801a95845f6bd9c9496dfd77.setContent(html_07804082d5f473112963b16de22e7172);\n            \n        \n\n        circle_ef2421873ce0e33df9ee7b7f40f2a615.bindPopup(popup_07142396801a95845f6bd9c9496dfd77)\n        ;\n\n        \n    \n    \n            var marker_076de20c249dcbcca915624f177a51fe = L.marker(\n                [28.56319718, -80.57682003],\n                {}\n            ).addTo(map_908fd8a9e16e95b3fdebbcabfcdf26ab);\n        \n    \n            var div_icon_4d02d70b59c8c76aaca6eb46fd8da6b7 = L.divIcon({&quot;className&quot;: &quot;empty&quot;, &quot;html&quot;: &quot;\\u003cdiv style=\\&quot;font-size: 12; color:#EB4C42FF;\\&quot;\\u003e\\u003cb\\u003eCCAFS SLC-40\\u003c/b\\u003e\\u003c/div\\u003e&quot;, &quot;iconAnchor&quot;: [0, 0], &quot;iconSize&quot;: [20, 20]});\n            marker_076de20c249dcbcca915624f177a51fe.setIcon(div_icon_4d02d70b59c8c76aaca6eb46fd8da6b7);\n        \n    \n            var circle_dff04f0db6f9d7c6fe951e26f74cae48 = L.circle(\n                [28.57325457, -80.64689529],\n                {&quot;bubblingMouseEvents&quot;: true, &quot;color&quot;: &quot;#EB4C42FF&quot;, &quot;dashArray&quot;: null, &quot;dashOffset&quot;: null, &quot;fill&quot;: true, &quot;fillColor&quot;: &quot;#EB4C42FF&quot;, &quot;fillOpacity&quot;: 0.2, &quot;fillRule&quot;: &quot;evenodd&quot;, &quot;lineCap&quot;: &quot;round&quot;, &quot;lineJoin&quot;: &quot;round&quot;, &quot;opacity&quot;: 1.0, &quot;radius&quot;: 1000, &quot;stroke&quot;: true, &quot;weight&quot;: 3}\n            ).addTo(map_908fd8a9e16e95b3fdebbcabfcdf26ab);\n        \n    \n        var popup_203800f09dd459f054e00c88cd80efc8 = L.popup({&quot;maxWidth&quot;: &quot;100%&quot;});\n\n        \n            \n                var html_5064791d554c394676a1b3b36ae274cd = $(`&lt;div id=&quot;html_5064791d554c394676a1b3b36ae274cd&quot; style=&quot;width: 100.0%; height: 100.0%;&quot;&gt;Success: 3 | Failed: 10&lt;/div&gt;`)[0];\n                popup_203800f09dd459f054e00c88cd80efc8.setContent(html_5064791d554c394676a1b3b36ae274cd);\n            \n        \n\n        circle_dff04f0db6f9d7c6fe951e26f74cae48.bindPopup(popup_203800f09dd459f054e00c88cd80efc8)\n        ;\n\n        \n    \n    \n            var marker_aed3b7848cb196245aa055033efd08cb = L.marker(\n                [28.57325457, -80.64689529],\n                {}\n            ).addTo(map_908fd8a9e16e95b3fdebbcabfcdf26ab);\n        \n    \n            var div_icon_e744826886bfa20d38da02634e60e066 = L.divIcon({&quot;className&quot;: &quot;empty&quot;, &quot;html&quot;: &quot;\\u003cdiv style=\\&quot;font-size: 12; color:#EB4C42FF;\\&quot;\\u003e\\u003cb\\u003eKSC LC-39A\\u003c/b\\u003e\\u003c/div\\u003e&quot;, &quot;iconAnchor&quot;: [0, 0], &quot;iconSize&quot;: [20, 20]});\n            marker_aed3b7848cb196245aa055033efd08cb.setIcon(div_icon_e744826886bfa20d38da02634e60e066);\n        \n    \n            var circle_e3a2a7b10b1cb662aa3d3e7fa0b6edb6 = L.circle(\n                [34.63283416, -120.6107455],\n                {&quot;bubblingMouseEvents&quot;: true, &quot;color&quot;: &quot;#EB4C42FF&quot;, &quot;dashArray&quot;: null, &quot;dashOffset&quot;: null, &quot;fill&quot;: true, &quot;fillColor&quot;: &quot;#EB4C42FF&quot;, &quot;fillOpacity&quot;: 0.2, &quot;fillRule&quot;: &quot;evenodd&quot;, &quot;lineCap&quot;: &quot;round&quot;, &quot;lineJoin&quot;: &quot;round&quot;, &quot;opacity&quot;: 1.0, &quot;radius&quot;: 1000, &quot;stroke&quot;: true, &quot;weight&quot;: 3}\n            ).addTo(map_908fd8a9e16e95b3fdebbcabfcdf26ab);\n        \n    \n        var popup_120853078dd22197704b4bd402148442 = L.popup({&quot;maxWidth&quot;: &quot;100%&quot;});\n\n        \n            \n                var html_7995c6ca8e17c1829ed773024f3e2d98 = $(`&lt;div id=&quot;html_7995c6ca8e17c1829ed773024f3e2d98&quot; style=&quot;width: 100.0%; height: 100.0%;&quot;&gt;Success: 6 | Failed: 4&lt;/div&gt;`)[0];\n                popup_120853078dd22197704b4bd402148442.setContent(html_7995c6ca8e17c1829ed773024f3e2d98);\n            \n        \n\n        circle_e3a2a7b10b1cb662aa3d3e7fa0b6edb6.bindPopup(popup_120853078dd22197704b4bd402148442)\n        ;\n\n        \n    \n    \n            var marker_e50e51c3a8aedb36cbe99780bbc4f3f6 = L.marker(\n                [34.63283416, -120.6107455],\n                {}\n            ).addTo(map_908fd8a9e16e95b3fdebbcabfcdf26ab);\n        \n    \n            var div_icon_bdff8e13a1547de1713672669a03799f = L.divIcon({&quot;className&quot;: &quot;empty&quot;, &quot;html&quot;: &quot;\\u003cdiv style=\\&quot;font-size: 12; color:#EB4C42FF;\\&quot;\\u003e\\u003cb\\u003eVAFB SLC-4E\\u003c/b\\u003e\\u003c/div\\u003e&quot;, &quot;iconAnchor&quot;: [0, 0], &quot;iconSize&quot;: [20, 20]});\n            marker_e50e51c3a8aedb36cbe99780bbc4f3f6.setIcon(div_icon_bdff8e13a1547de1713672669a03799f);\n        \n&lt;/script&gt;\n&lt;/html&gt;\" style=\"position:absolute;width:100%;height:100%;left:0;top:0;border:none !important;\" allowfullscreen webkitallowfullscreen mozallowfullscreen></iframe></div></div>"
     },
     "metadata": {}
    }
   ],
   "execution_count": 17
  },
  {
   "cell_type": "markdown",
   "source": [
    "Next, let's try to enhance the map by adding the launch outcomes for each site, and see which sites have high success rates.\n",
    "Recall that data frame spacex_df has detailed launch records, and the `class` column indicates if this launch was successful or not\n"
   ],
   "metadata": {}
  },
  {
   "cell_type": "code",
   "source": [
    "spacex_df.tail(10)"
   ],
   "metadata": {
    "trusted": true
   },
   "outputs": [
    {
     "execution_count": 18,
     "output_type": "execute_result",
     "data": {
      "text/plain": "     Launch Site        Lat       Long  class\n46    KSC LC-39A  28.573255 -80.646895      1\n47    KSC LC-39A  28.573255 -80.646895      1\n48    KSC LC-39A  28.573255 -80.646895      1\n49  CCAFS SLC-40  28.563197 -80.576820      1\n50  CCAFS SLC-40  28.563197 -80.576820      1\n51  CCAFS SLC-40  28.563197 -80.576820      0\n52  CCAFS SLC-40  28.563197 -80.576820      0\n53  CCAFS SLC-40  28.563197 -80.576820      0\n54  CCAFS SLC-40  28.563197 -80.576820      1\n55  CCAFS SLC-40  28.563197 -80.576820      0",
      "text/html": "<div>\n<style scoped>\n    .dataframe tbody tr th:only-of-type {\n        vertical-align: middle;\n    }\n\n    .dataframe tbody tr th {\n        vertical-align: top;\n    }\n\n    .dataframe thead th {\n        text-align: right;\n    }\n</style>\n<table border=\"1\" class=\"dataframe\">\n  <thead>\n    <tr style=\"text-align: right;\">\n      <th></th>\n      <th>Launch Site</th>\n      <th>Lat</th>\n      <th>Long</th>\n      <th>class</th>\n    </tr>\n  </thead>\n  <tbody>\n    <tr>\n      <th>46</th>\n      <td>KSC LC-39A</td>\n      <td>28.573255</td>\n      <td>-80.646895</td>\n      <td>1</td>\n    </tr>\n    <tr>\n      <th>47</th>\n      <td>KSC LC-39A</td>\n      <td>28.573255</td>\n      <td>-80.646895</td>\n      <td>1</td>\n    </tr>\n    <tr>\n      <th>48</th>\n      <td>KSC LC-39A</td>\n      <td>28.573255</td>\n      <td>-80.646895</td>\n      <td>1</td>\n    </tr>\n    <tr>\n      <th>49</th>\n      <td>CCAFS SLC-40</td>\n      <td>28.563197</td>\n      <td>-80.576820</td>\n      <td>1</td>\n    </tr>\n    <tr>\n      <th>50</th>\n      <td>CCAFS SLC-40</td>\n      <td>28.563197</td>\n      <td>-80.576820</td>\n      <td>1</td>\n    </tr>\n    <tr>\n      <th>51</th>\n      <td>CCAFS SLC-40</td>\n      <td>28.563197</td>\n      <td>-80.576820</td>\n      <td>0</td>\n    </tr>\n    <tr>\n      <th>52</th>\n      <td>CCAFS SLC-40</td>\n      <td>28.563197</td>\n      <td>-80.576820</td>\n      <td>0</td>\n    </tr>\n    <tr>\n      <th>53</th>\n      <td>CCAFS SLC-40</td>\n      <td>28.563197</td>\n      <td>-80.576820</td>\n      <td>0</td>\n    </tr>\n    <tr>\n      <th>54</th>\n      <td>CCAFS SLC-40</td>\n      <td>28.563197</td>\n      <td>-80.576820</td>\n      <td>1</td>\n    </tr>\n    <tr>\n      <th>55</th>\n      <td>CCAFS SLC-40</td>\n      <td>28.563197</td>\n      <td>-80.576820</td>\n      <td>0</td>\n    </tr>\n  </tbody>\n</table>\n</div>"
     },
     "metadata": {}
    }
   ],
   "execution_count": 18
  },
  {
   "cell_type": "markdown",
   "source": [
    "Next, let's create markers for all launch records.\n",
    "If a launch was successful `(class=1)`, then we use a green marker and if a launch was failed, we use a red marker `(class=0)`\n"
   ],
   "metadata": {}
  },
  {
   "cell_type": "markdown",
   "source": [
    "Note that a launch only happens in one of the four launch sites, which means many launch records will have the exact same coordinate. Marker clusters can be a good way to simplify a map containing many markers having the same coordinate.\n"
   ],
   "metadata": {}
  },
  {
   "cell_type": "markdown",
   "source": [
    "Let's first create a `MarkerCluster` object\n"
   ],
   "metadata": {}
  },
  {
   "cell_type": "code",
   "source": [
    "site_map = folium.Map(location=nasa_coordinate, zoom_start=5)\n",
    "marker_cluster = MarkerCluster().add_to(site_map)"
   ],
   "metadata": {
    "trusted": true
   },
   "outputs": [],
   "execution_count": 28
  },
  {
   "cell_type": "markdown",
   "source": [
    "*TODO:* Create a new column in `launch_sites` dataframe called `marker_color` to store the marker colors based on the `class` value\n"
   ],
   "metadata": {}
  },
  {
   "cell_type": "code",
   "source": [
    "spacex_df['marker_color'] = spacex_df['class'].apply(lambda c: 'green' if c==1 else 'red')\n",
    "# Apply a function to check the value of `class` column\n",
    "# If class=1, marker_color value will be green\n",
    "# If class=0, marker_color value will be red"
   ],
   "metadata": {
    "trusted": true
   },
   "outputs": [],
   "execution_count": 29
  },
  {
   "cell_type": "markdown",
   "source": [
    "*TODO:* For each launch result in `spacex_df` data frame, add a `folium.Marker` to `marker_cluster`\n"
   ],
   "metadata": {}
  },
  {
   "cell_type": "code",
   "source": [
    "spacex_df.head()"
   ],
   "metadata": {
    "trusted": true
   },
   "outputs": [
    {
     "execution_count": 30,
     "output_type": "execute_result",
     "data": {
      "text/plain": "   Launch Site        Lat       Long  class marker_color\n0  CCAFS LC-40  28.562302 -80.577356      0          red\n1  CCAFS LC-40  28.562302 -80.577356      0          red\n2  CCAFS LC-40  28.562302 -80.577356      0          red\n3  CCAFS LC-40  28.562302 -80.577356      0          red\n4  CCAFS LC-40  28.562302 -80.577356      0          red",
      "text/html": "<div>\n<style scoped>\n    .dataframe tbody tr th:only-of-type {\n        vertical-align: middle;\n    }\n\n    .dataframe tbody tr th {\n        vertical-align: top;\n    }\n\n    .dataframe thead th {\n        text-align: right;\n    }\n</style>\n<table border=\"1\" class=\"dataframe\">\n  <thead>\n    <tr style=\"text-align: right;\">\n      <th></th>\n      <th>Launch Site</th>\n      <th>Lat</th>\n      <th>Long</th>\n      <th>class</th>\n      <th>marker_color</th>\n    </tr>\n  </thead>\n  <tbody>\n    <tr>\n      <th>0</th>\n      <td>CCAFS LC-40</td>\n      <td>28.562302</td>\n      <td>-80.577356</td>\n      <td>0</td>\n      <td>red</td>\n    </tr>\n    <tr>\n      <th>1</th>\n      <td>CCAFS LC-40</td>\n      <td>28.562302</td>\n      <td>-80.577356</td>\n      <td>0</td>\n      <td>red</td>\n    </tr>\n    <tr>\n      <th>2</th>\n      <td>CCAFS LC-40</td>\n      <td>28.562302</td>\n      <td>-80.577356</td>\n      <td>0</td>\n      <td>red</td>\n    </tr>\n    <tr>\n      <th>3</th>\n      <td>CCAFS LC-40</td>\n      <td>28.562302</td>\n      <td>-80.577356</td>\n      <td>0</td>\n      <td>red</td>\n    </tr>\n    <tr>\n      <th>4</th>\n      <td>CCAFS LC-40</td>\n      <td>28.562302</td>\n      <td>-80.577356</td>\n      <td>0</td>\n      <td>red</td>\n    </tr>\n  </tbody>\n</table>\n</div>"
     },
     "metadata": {}
    }
   ],
   "execution_count": 30
  },
  {
   "cell_type": "code",
   "source": [
    "# Add marker_cluster to current site_map\n",
    "site_map.add_child(marker_cluster)\n",
    "\n",
    "# for each row in spacex_df data frame\n",
    "# create a Marker object with its coordinate\n",
    "# and customize the Marker's icon property to indicate if this launch was successed or failed, \n",
    "# e.g., icon=folium.Icon(color='white', icon_color=row['marker_color']\n",
    "for index, record in spacex_df.iterrows():\n",
    "    # TODO: Create and add a Marker cluster to the site map\n",
    "    marker = folium.Marker((record[1], record[2]), color=record[4])\n",
    "    marker_cluster.add_child(marker)\n",
    "\n",
    "site_map"
   ],
   "metadata": {
    "trusted": true,
    "scrolled": true
   },
   "outputs": [
    {
     "execution_count": 31,
     "output_type": "execute_result",
     "data": {
      "text/plain": "<folium.folium.Map at 0x6342240>",
      "text/html": "<div style=\"width:100%;\"><div style=\"position:relative;width:100%;height:0;padding-bottom:60%;\"><span style=\"color:#565656\">Make this Notebook Trusted to load map: File -> Trust Notebook</span><iframe srcdoc=\"&lt;!DOCTYPE html&gt;\n&lt;html&gt;\n&lt;head&gt;\n    \n    &lt;meta http-equiv=&quot;content-type&quot; content=&quot;text/html; charset=UTF-8&quot; /&gt;\n    \n        &lt;script&gt;\n            L_NO_TOUCH = false;\n            L_DISABLE_3D = false;\n        &lt;/script&gt;\n    \n    &lt;style&gt;html, body {width: 100%;height: 100%;margin: 0;padding: 0;}&lt;/style&gt;\n    &lt;style&gt;#map {position:absolute;top:0;bottom:0;right:0;left:0;}&lt;/style&gt;\n    &lt;script src=&quot;https://cdn.jsdelivr.net/npm/leaflet@1.9.3/dist/leaflet.js&quot;&gt;&lt;/script&gt;\n    &lt;script src=&quot;https://code.jquery.com/jquery-3.7.1.min.js&quot;&gt;&lt;/script&gt;\n    &lt;script src=&quot;https://cdn.jsdelivr.net/npm/bootstrap@5.2.2/dist/js/bootstrap.bundle.min.js&quot;&gt;&lt;/script&gt;\n    &lt;script src=&quot;https://cdnjs.cloudflare.com/ajax/libs/Leaflet.awesome-markers/2.0.2/leaflet.awesome-markers.js&quot;&gt;&lt;/script&gt;\n    &lt;link rel=&quot;stylesheet&quot; href=&quot;https://cdn.jsdelivr.net/npm/leaflet@1.9.3/dist/leaflet.css&quot;/&gt;\n    &lt;link rel=&quot;stylesheet&quot; href=&quot;https://cdn.jsdelivr.net/npm/bootstrap@5.2.2/dist/css/bootstrap.min.css&quot;/&gt;\n    &lt;link rel=&quot;stylesheet&quot; href=&quot;https://netdna.bootstrapcdn.com/bootstrap/3.0.0/css/bootstrap.min.css&quot;/&gt;\n    &lt;link rel=&quot;stylesheet&quot; href=&quot;https://cdn.jsdelivr.net/npm/@fortawesome/fontawesome-free@6.2.0/css/all.min.css&quot;/&gt;\n    &lt;link rel=&quot;stylesheet&quot; href=&quot;https://cdnjs.cloudflare.com/ajax/libs/Leaflet.awesome-markers/2.0.2/leaflet.awesome-markers.css&quot;/&gt;\n    &lt;link rel=&quot;stylesheet&quot; href=&quot;https://cdn.jsdelivr.net/gh/python-visualization/folium/folium/templates/leaflet.awesome.rotate.min.css&quot;/&gt;\n    \n            &lt;meta name=&quot;viewport&quot; content=&quot;width=device-width,\n                initial-scale=1.0, maximum-scale=1.0, user-scalable=no&quot; /&gt;\n            &lt;style&gt;\n                #map_001820d00e8bb68eade5697d30bd4bf9 {\n                    position: relative;\n                    width: 100.0%;\n                    height: 100.0%;\n                    left: 0.0%;\n                    top: 0.0%;\n                }\n                .leaflet-container { font-size: 1rem; }\n            &lt;/style&gt;\n        \n    &lt;script src=&quot;https://cdnjs.cloudflare.com/ajax/libs/leaflet.markercluster/1.1.0/leaflet.markercluster.js&quot;&gt;&lt;/script&gt;\n    &lt;link rel=&quot;stylesheet&quot; href=&quot;https://cdnjs.cloudflare.com/ajax/libs/leaflet.markercluster/1.1.0/MarkerCluster.css&quot;/&gt;\n    &lt;link rel=&quot;stylesheet&quot; href=&quot;https://cdnjs.cloudflare.com/ajax/libs/leaflet.markercluster/1.1.0/MarkerCluster.Default.css&quot;/&gt;\n&lt;/head&gt;\n&lt;body&gt;\n    \n    \n            &lt;div class=&quot;folium-map&quot; id=&quot;map_001820d00e8bb68eade5697d30bd4bf9&quot; &gt;&lt;/div&gt;\n        \n&lt;/body&gt;\n&lt;script&gt;\n    \n    \n            var map_001820d00e8bb68eade5697d30bd4bf9 = L.map(\n                &quot;map_001820d00e8bb68eade5697d30bd4bf9&quot;,\n                {\n                    center: [29.559684888503615, -95.0830971930759],\n                    crs: L.CRS.EPSG3857,\n                    zoom: 5,\n                    zoomControl: true,\n                    preferCanvas: false,\n                }\n            );\n\n            \n\n        \n    \n            var tile_layer_83e18b2a7496645fc88f07e813cebe59 = L.tileLayer(\n                &quot;https://tile.openstreetmap.org/{z}/{x}/{y}.png&quot;,\n                {&quot;attribution&quot;: &quot;\\u0026copy; \\u003ca href=\\&quot;https://www.openstreetmap.org/copyright\\&quot;\\u003eOpenStreetMap\\u003c/a\\u003e contributors&quot;, &quot;detectRetina&quot;: false, &quot;maxNativeZoom&quot;: 19, &quot;maxZoom&quot;: 19, &quot;minZoom&quot;: 0, &quot;noWrap&quot;: false, &quot;opacity&quot;: 1, &quot;subdomains&quot;: &quot;abc&quot;, &quot;tms&quot;: false}\n            );\n        \n    \n            tile_layer_83e18b2a7496645fc88f07e813cebe59.addTo(map_001820d00e8bb68eade5697d30bd4bf9);\n        \n    \n            var marker_cluster_818f23a4a9262642a26981dd9cf80675 = L.markerClusterGroup(\n                {}\n            );\n        \n    \n            var marker_3a4c16c3838f9ebbe5a5cd0303c791ec = L.marker(\n                [28.56230197, -80.57735648],\n                {&quot;color&quot;: &quot;red&quot;}\n            ).addTo(marker_cluster_818f23a4a9262642a26981dd9cf80675);\n        \n    \n            var marker_57fce9d7eb4babc063e340ff9fc2ac4f = L.marker(\n                [28.56230197, -80.57735648],\n                {&quot;color&quot;: &quot;red&quot;}\n            ).addTo(marker_cluster_818f23a4a9262642a26981dd9cf80675);\n        \n    \n            var marker_c11990f71d6b1ff8da9c5999823ada58 = L.marker(\n                [28.56230197, -80.57735648],\n                {&quot;color&quot;: &quot;red&quot;}\n            ).addTo(marker_cluster_818f23a4a9262642a26981dd9cf80675);\n        \n    \n            var marker_ea4db3dc0cf89f0329202cb44ce78b7c = L.marker(\n                [28.56230197, -80.57735648],\n                {&quot;color&quot;: &quot;red&quot;}\n            ).addTo(marker_cluster_818f23a4a9262642a26981dd9cf80675);\n        \n    \n            var marker_fe5705cf541de79344c7e4aa20380057 = L.marker(\n                [28.56230197, -80.57735648],\n                {&quot;color&quot;: &quot;red&quot;}\n            ).addTo(marker_cluster_818f23a4a9262642a26981dd9cf80675);\n        \n    \n            var marker_8bea88cf1b5fbd4810771db83e5ad569 = L.marker(\n                [28.56230197, -80.57735648],\n                {&quot;color&quot;: &quot;red&quot;}\n            ).addTo(marker_cluster_818f23a4a9262642a26981dd9cf80675);\n        \n    \n            var marker_77c0b33a259996bc8740656b82dc77de = L.marker(\n                [28.56230197, -80.57735648],\n                {&quot;color&quot;: &quot;red&quot;}\n            ).addTo(marker_cluster_818f23a4a9262642a26981dd9cf80675);\n        \n    \n            var marker_4a5c439e1b5dd3f4ad8b976a5f1649fb = L.marker(\n                [28.56230197, -80.57735648],\n                {&quot;color&quot;: &quot;red&quot;}\n            ).addTo(marker_cluster_818f23a4a9262642a26981dd9cf80675);\n        \n    \n            var marker_7b15fd329853a3a12ca6b4f83ba4bc32 = L.marker(\n                [28.56230197, -80.57735648],\n                {&quot;color&quot;: &quot;red&quot;}\n            ).addTo(marker_cluster_818f23a4a9262642a26981dd9cf80675);\n        \n    \n            var marker_67531943c8c301ad7eba5e50f0b63fe9 = L.marker(\n                [28.56230197, -80.57735648],\n                {&quot;color&quot;: &quot;red&quot;}\n            ).addTo(marker_cluster_818f23a4a9262642a26981dd9cf80675);\n        \n    \n            var marker_2f3504769cefd5bd242eb02a640dc24b = L.marker(\n                [28.56230197, -80.57735648],\n                {&quot;color&quot;: &quot;red&quot;}\n            ).addTo(marker_cluster_818f23a4a9262642a26981dd9cf80675);\n        \n    \n            var marker_ce8854b607c27b112e826bbf0e8ce51c = L.marker(\n                [28.56230197, -80.57735648],\n                {&quot;color&quot;: &quot;red&quot;}\n            ).addTo(marker_cluster_818f23a4a9262642a26981dd9cf80675);\n        \n    \n            var marker_2d41f30e9e33cbb366b0e4d9ba2c4b9f = L.marker(\n                [28.56230197, -80.57735648],\n                {&quot;color&quot;: &quot;red&quot;}\n            ).addTo(marker_cluster_818f23a4a9262642a26981dd9cf80675);\n        \n    \n            var marker_81bbd45d9ae74c99f33883c9e6225959 = L.marker(\n                [28.56230197, -80.57735648],\n                {&quot;color&quot;: &quot;red&quot;}\n            ).addTo(marker_cluster_818f23a4a9262642a26981dd9cf80675);\n        \n    \n            var marker_528f2083243d40f3abd8a1759b876101 = L.marker(\n                [28.56230197, -80.57735648],\n                {&quot;color&quot;: &quot;red&quot;}\n            ).addTo(marker_cluster_818f23a4a9262642a26981dd9cf80675);\n        \n    \n            var marker_6ea952215d33b3ab79c061edd3945d87 = L.marker(\n                [28.56230197, -80.57735648],\n                {&quot;color&quot;: &quot;red&quot;}\n            ).addTo(marker_cluster_818f23a4a9262642a26981dd9cf80675);\n        \n    \n            var marker_bfaad8fc7accc481bfd0a4b4009ffdb2 = L.marker(\n                [28.56230197, -80.57735648],\n                {&quot;color&quot;: &quot;red&quot;}\n            ).addTo(marker_cluster_818f23a4a9262642a26981dd9cf80675);\n        \n    \n            var marker_93a9d68ad8cccd63169b2bc7dca3f849 = L.marker(\n                [28.56230197, -80.57735648],\n                {&quot;color&quot;: &quot;green&quot;}\n            ).addTo(marker_cluster_818f23a4a9262642a26981dd9cf80675);\n        \n    \n            var marker_e31179201376645640aa139832372334 = L.marker(\n                [28.56230197, -80.57735648],\n                {&quot;color&quot;: &quot;green&quot;}\n            ).addTo(marker_cluster_818f23a4a9262642a26981dd9cf80675);\n        \n    \n            var marker_53af51d3ba3f58d5df333fe732065bff = L.marker(\n                [28.56230197, -80.57735648],\n                {&quot;color&quot;: &quot;red&quot;}\n            ).addTo(marker_cluster_818f23a4a9262642a26981dd9cf80675);\n        \n    \n            var marker_1ceca26c85303a70cba0341c6d502994 = L.marker(\n                [28.56230197, -80.57735648],\n                {&quot;color&quot;: &quot;green&quot;}\n            ).addTo(marker_cluster_818f23a4a9262642a26981dd9cf80675);\n        \n    \n            var marker_4d340ecfd47dd55db5f6c8fc35ae122b = L.marker(\n                [28.56230197, -80.57735648],\n                {&quot;color&quot;: &quot;green&quot;}\n            ).addTo(marker_cluster_818f23a4a9262642a26981dd9cf80675);\n        \n    \n            var marker_7e2a6fe2e404d478d4d2236fc08e601a = L.marker(\n                [28.56230197, -80.57735648],\n                {&quot;color&quot;: &quot;green&quot;}\n            ).addTo(marker_cluster_818f23a4a9262642a26981dd9cf80675);\n        \n    \n            var marker_2654116eca3f94cfb5dc11de97b7675f = L.marker(\n                [28.56230197, -80.57735648],\n                {&quot;color&quot;: &quot;red&quot;}\n            ).addTo(marker_cluster_818f23a4a9262642a26981dd9cf80675);\n        \n    \n            var marker_829ad4541c596a31b265cb716b12cf12 = L.marker(\n                [28.56230197, -80.57735648],\n                {&quot;color&quot;: &quot;green&quot;}\n            ).addTo(marker_cluster_818f23a4a9262642a26981dd9cf80675);\n        \n    \n            var marker_0fb48c095feada31b78b7a7094a1bc32 = L.marker(\n                [28.56230197, -80.57735648],\n                {&quot;color&quot;: &quot;green&quot;}\n            ).addTo(marker_cluster_818f23a4a9262642a26981dd9cf80675);\n        \n    \n            var marker_b5c17d4c3374dfdbeb36c97b92edeb65 = L.marker(\n                [34.63283416, -120.6107455],\n                {&quot;color&quot;: &quot;red&quot;}\n            ).addTo(marker_cluster_818f23a4a9262642a26981dd9cf80675);\n        \n    \n            var marker_e27ecf0408de64ffc05304d9fb756bba = L.marker(\n                [34.63283416, -120.6107455],\n                {&quot;color&quot;: &quot;red&quot;}\n            ).addTo(marker_cluster_818f23a4a9262642a26981dd9cf80675);\n        \n    \n            var marker_dd27cf402231164c9e1c5fc463539d8d = L.marker(\n                [34.63283416, -120.6107455],\n                {&quot;color&quot;: &quot;green&quot;}\n            ).addTo(marker_cluster_818f23a4a9262642a26981dd9cf80675);\n        \n    \n            var marker_2b4156e3d5c542e9f4f979572e19ae9c = L.marker(\n                [34.63283416, -120.6107455],\n                {&quot;color&quot;: &quot;green&quot;}\n            ).addTo(marker_cluster_818f23a4a9262642a26981dd9cf80675);\n        \n    \n            var marker_fccbcaa6d2f84923891543cbcc73c029 = L.marker(\n                [34.63283416, -120.6107455],\n                {&quot;color&quot;: &quot;green&quot;}\n            ).addTo(marker_cluster_818f23a4a9262642a26981dd9cf80675);\n        \n    \n            var marker_40d69a7784123264b4588d06aa1e48a8 = L.marker(\n                [34.63283416, -120.6107455],\n                {&quot;color&quot;: &quot;green&quot;}\n            ).addTo(marker_cluster_818f23a4a9262642a26981dd9cf80675);\n        \n    \n            var marker_ae5fab116549ad6451c59a8caba0b961 = L.marker(\n                [34.63283416, -120.6107455],\n                {&quot;color&quot;: &quot;red&quot;}\n            ).addTo(marker_cluster_818f23a4a9262642a26981dd9cf80675);\n        \n    \n            var marker_769f794de1935d4df99d01c4c51e5be1 = L.marker(\n                [34.63283416, -120.6107455],\n                {&quot;color&quot;: &quot;red&quot;}\n            ).addTo(marker_cluster_818f23a4a9262642a26981dd9cf80675);\n        \n    \n            var marker_bd8e7dfba404e094fe472ffcfb06ea1a = L.marker(\n                [34.63283416, -120.6107455],\n                {&quot;color&quot;: &quot;red&quot;}\n            ).addTo(marker_cluster_818f23a4a9262642a26981dd9cf80675);\n        \n    \n            var marker_d6628fb7ca32528945b7350a5c7a967e = L.marker(\n                [34.63283416, -120.6107455],\n                {&quot;color&quot;: &quot;red&quot;}\n            ).addTo(marker_cluster_818f23a4a9262642a26981dd9cf80675);\n        \n    \n            var marker_7bd4e2a86b717c0ac51aded9b0435aa1 = L.marker(\n                [28.57325457, -80.64689529],\n                {&quot;color&quot;: &quot;green&quot;}\n            ).addTo(marker_cluster_818f23a4a9262642a26981dd9cf80675);\n        \n    \n            var marker_0f0f7aa115c535ea74871f47e2a63f9b = L.marker(\n                [28.57325457, -80.64689529],\n                {&quot;color&quot;: &quot;red&quot;}\n            ).addTo(marker_cluster_818f23a4a9262642a26981dd9cf80675);\n        \n    \n            var marker_a3ee837322284eebdc9166b6754e2b10 = L.marker(\n                [28.57325457, -80.64689529],\n                {&quot;color&quot;: &quot;green&quot;}\n            ).addTo(marker_cluster_818f23a4a9262642a26981dd9cf80675);\n        \n    \n            var marker_6be39d32d723f573aeda7cda959f2cb9 = L.marker(\n                [28.57325457, -80.64689529],\n                {&quot;color&quot;: &quot;green&quot;}\n            ).addTo(marker_cluster_818f23a4a9262642a26981dd9cf80675);\n        \n    \n            var marker_3c38d8ac6b9c0c032590d21e965e7cbe = L.marker(\n                [28.57325457, -80.64689529],\n                {&quot;color&quot;: &quot;red&quot;}\n            ).addTo(marker_cluster_818f23a4a9262642a26981dd9cf80675);\n        \n    \n            var marker_40659c828eea1b8ea51ea0067e416d11 = L.marker(\n                [28.57325457, -80.64689529],\n                {&quot;color&quot;: &quot;green&quot;}\n            ).addTo(marker_cluster_818f23a4a9262642a26981dd9cf80675);\n        \n    \n            var marker_9fd135971e28760d6facb29817153c81 = L.marker(\n                [28.57325457, -80.64689529],\n                {&quot;color&quot;: &quot;green&quot;}\n            ).addTo(marker_cluster_818f23a4a9262642a26981dd9cf80675);\n        \n    \n            var marker_f2212e1487b6156fa7ef3b248b96a93e = L.marker(\n                [28.57325457, -80.64689529],\n                {&quot;color&quot;: &quot;red&quot;}\n            ).addTo(marker_cluster_818f23a4a9262642a26981dd9cf80675);\n        \n    \n            var marker_3c3ddb0ad64e2be21289b3cb1d90656e = L.marker(\n                [28.57325457, -80.64689529],\n                {&quot;color&quot;: &quot;green&quot;}\n            ).addTo(marker_cluster_818f23a4a9262642a26981dd9cf80675);\n        \n    \n            var marker_1abd11bea13ecd3152e5923a7612b81d = L.marker(\n                [28.57325457, -80.64689529],\n                {&quot;color&quot;: &quot;green&quot;}\n            ).addTo(marker_cluster_818f23a4a9262642a26981dd9cf80675);\n        \n    \n            var marker_e2bdeab915ffc535373c03cdd897375d = L.marker(\n                [28.57325457, -80.64689529],\n                {&quot;color&quot;: &quot;green&quot;}\n            ).addTo(marker_cluster_818f23a4a9262642a26981dd9cf80675);\n        \n    \n            var marker_b644fff8f976f50289ca6a6fa2c3d91c = L.marker(\n                [28.57325457, -80.64689529],\n                {&quot;color&quot;: &quot;green&quot;}\n            ).addTo(marker_cluster_818f23a4a9262642a26981dd9cf80675);\n        \n    \n            var marker_5ae80fd99c54a2def79500b052b6af98 = L.marker(\n                [28.57325457, -80.64689529],\n                {&quot;color&quot;: &quot;green&quot;}\n            ).addTo(marker_cluster_818f23a4a9262642a26981dd9cf80675);\n        \n    \n            var marker_caf91b091f9b646583b6adb8b6c1ada3 = L.marker(\n                [28.56319718, -80.57682003],\n                {&quot;color&quot;: &quot;green&quot;}\n            ).addTo(marker_cluster_818f23a4a9262642a26981dd9cf80675);\n        \n    \n            var marker_68c99bae72e71978bed3f2587d3dd8fa = L.marker(\n                [28.56319718, -80.57682003],\n                {&quot;color&quot;: &quot;green&quot;}\n            ).addTo(marker_cluster_818f23a4a9262642a26981dd9cf80675);\n        \n    \n            var marker_394387058c0876fe2702d0ca000e0296 = L.marker(\n                [28.56319718, -80.57682003],\n                {&quot;color&quot;: &quot;red&quot;}\n            ).addTo(marker_cluster_818f23a4a9262642a26981dd9cf80675);\n        \n    \n            var marker_0904525b31abb743f6efafb0a8282b01 = L.marker(\n                [28.56319718, -80.57682003],\n                {&quot;color&quot;: &quot;red&quot;}\n            ).addTo(marker_cluster_818f23a4a9262642a26981dd9cf80675);\n        \n    \n            var marker_3258d92d468fdd76772f60df50755112 = L.marker(\n                [28.56319718, -80.57682003],\n                {&quot;color&quot;: &quot;red&quot;}\n            ).addTo(marker_cluster_818f23a4a9262642a26981dd9cf80675);\n        \n    \n            var marker_6abcf1b30940ad6b7e4599989d2217de = L.marker(\n                [28.56319718, -80.57682003],\n                {&quot;color&quot;: &quot;green&quot;}\n            ).addTo(marker_cluster_818f23a4a9262642a26981dd9cf80675);\n        \n    \n            var marker_a3c2144f98b384e12d3052291322e567 = L.marker(\n                [28.56319718, -80.57682003],\n                {&quot;color&quot;: &quot;red&quot;}\n            ).addTo(marker_cluster_818f23a4a9262642a26981dd9cf80675);\n        \n    \n            marker_cluster_818f23a4a9262642a26981dd9cf80675.addTo(map_001820d00e8bb68eade5697d30bd4bf9);\n        \n&lt;/script&gt;\n&lt;/html&gt;\" style=\"position:absolute;width:100%;height:100%;left:0;top:0;border:none !important;\" allowfullscreen webkitallowfullscreen mozallowfullscreen></iframe></div></div>"
     },
     "metadata": {}
    }
   ],
   "execution_count": 31
  },
  {
   "cell_type": "markdown",
   "source": [
    "Your updated map may look like the following screenshots:\n"
   ],
   "metadata": {}
  },
  {
   "cell_type": "markdown",
   "source": [
    "<center>\n",
    "    <img src=\"https://cf-courses-data.s3.us.cloud-object-storage.appdomain.cloud/IBM-DS0321EN-SkillsNetwork/labs/module_3/images/launch_site_marker_cluster.png\">\n",
    "</center>\n"
   ],
   "metadata": {}
  },
  {
   "cell_type": "markdown",
   "source": [
    "<center>\n",
    "    <img src=\"https://cf-courses-data.s3.us.cloud-object-storage.appdomain.cloud/IBM-DS0321EN-SkillsNetwork/labs/module_3/images/launch_site_marker_cluster_zoomed.png\">\n",
    "</center>\n"
   ],
   "metadata": {}
  },
  {
   "cell_type": "markdown",
   "source": [
    "From the color-labeled markers in marker clusters, you should be able to easily identify which launch sites have relatively high success rates.\n"
   ],
   "metadata": {}
  },
  {
   "cell_type": "code",
   "source": [
    "# TASK 3: Calculate the distances between a launch site to its proximities\n"
   ],
   "metadata": {},
   "outputs": [],
   "execution_count": null
  },
  {
   "cell_type": "markdown",
   "source": [
    "Next, we need to explore and analyze the proximities of launch sites.\n"
   ],
   "metadata": {}
  },
  {
   "cell_type": "markdown",
   "source": [
    "Let's first add a `MousePosition` on the map to get coordinate for a mouse over a point on the map. As such, while you are exploring the map, you can easily find the coordinates of any points of interests (such as railway)\n"
   ],
   "metadata": {}
  },
  {
   "cell_type": "code",
   "source": [
    "# Add Mouse Position to get the coordinate (Lat, Long) for a mouse over on the map\n",
    "formatter = \"function(num) {return L.Util.formatNum(num, 5);};\"\n",
    "mouse_position = MousePosition(\n",
    "    position='topright',\n",
    "    separator=' Long: ',\n",
    "    empty_string='NaN',\n",
    "    lng_first=False,\n",
    "    num_digits=20,\n",
    "    prefix='Lat:',\n",
    "    lat_formatter=formatter,\n",
    "    lng_formatter=formatter,\n",
    ")\n",
    "\n",
    "site_map.add_child(mouse_position)\n",
    "site_map"
   ],
   "metadata": {
    "trusted": true,
    "scrolled": true
   },
   "outputs": [
    {
     "execution_count": 32,
     "output_type": "execute_result",
     "data": {
      "text/plain": "<folium.folium.Map at 0x6342240>",
      "text/html": "<div style=\"width:100%;\"><div style=\"position:relative;width:100%;height:0;padding-bottom:60%;\"><span style=\"color:#565656\">Make this Notebook Trusted to load map: File -> Trust Notebook</span><iframe srcdoc=\"&lt;!DOCTYPE html&gt;\n&lt;html&gt;\n&lt;head&gt;\n    \n    &lt;meta http-equiv=&quot;content-type&quot; content=&quot;text/html; charset=UTF-8&quot; /&gt;\n    \n        &lt;script&gt;\n            L_NO_TOUCH = false;\n            L_DISABLE_3D = false;\n        &lt;/script&gt;\n    \n    &lt;style&gt;html, body {width: 100%;height: 100%;margin: 0;padding: 0;}&lt;/style&gt;\n    &lt;style&gt;#map {position:absolute;top:0;bottom:0;right:0;left:0;}&lt;/style&gt;\n    &lt;script src=&quot;https://cdn.jsdelivr.net/npm/leaflet@1.9.3/dist/leaflet.js&quot;&gt;&lt;/script&gt;\n    &lt;script src=&quot;https://code.jquery.com/jquery-3.7.1.min.js&quot;&gt;&lt;/script&gt;\n    &lt;script src=&quot;https://cdn.jsdelivr.net/npm/bootstrap@5.2.2/dist/js/bootstrap.bundle.min.js&quot;&gt;&lt;/script&gt;\n    &lt;script src=&quot;https://cdnjs.cloudflare.com/ajax/libs/Leaflet.awesome-markers/2.0.2/leaflet.awesome-markers.js&quot;&gt;&lt;/script&gt;\n    &lt;link rel=&quot;stylesheet&quot; href=&quot;https://cdn.jsdelivr.net/npm/leaflet@1.9.3/dist/leaflet.css&quot;/&gt;\n    &lt;link rel=&quot;stylesheet&quot; href=&quot;https://cdn.jsdelivr.net/npm/bootstrap@5.2.2/dist/css/bootstrap.min.css&quot;/&gt;\n    &lt;link rel=&quot;stylesheet&quot; href=&quot;https://netdna.bootstrapcdn.com/bootstrap/3.0.0/css/bootstrap.min.css&quot;/&gt;\n    &lt;link rel=&quot;stylesheet&quot; href=&quot;https://cdn.jsdelivr.net/npm/@fortawesome/fontawesome-free@6.2.0/css/all.min.css&quot;/&gt;\n    &lt;link rel=&quot;stylesheet&quot; href=&quot;https://cdnjs.cloudflare.com/ajax/libs/Leaflet.awesome-markers/2.0.2/leaflet.awesome-markers.css&quot;/&gt;\n    &lt;link rel=&quot;stylesheet&quot; href=&quot;https://cdn.jsdelivr.net/gh/python-visualization/folium/folium/templates/leaflet.awesome.rotate.min.css&quot;/&gt;\n    \n            &lt;meta name=&quot;viewport&quot; content=&quot;width=device-width,\n                initial-scale=1.0, maximum-scale=1.0, user-scalable=no&quot; /&gt;\n            &lt;style&gt;\n                #map_001820d00e8bb68eade5697d30bd4bf9 {\n                    position: relative;\n                    width: 100.0%;\n                    height: 100.0%;\n                    left: 0.0%;\n                    top: 0.0%;\n                }\n                .leaflet-container { font-size: 1rem; }\n            &lt;/style&gt;\n        \n    &lt;script src=&quot;https://cdnjs.cloudflare.com/ajax/libs/leaflet.markercluster/1.1.0/leaflet.markercluster.js&quot;&gt;&lt;/script&gt;\n    &lt;link rel=&quot;stylesheet&quot; href=&quot;https://cdnjs.cloudflare.com/ajax/libs/leaflet.markercluster/1.1.0/MarkerCluster.css&quot;/&gt;\n    &lt;link rel=&quot;stylesheet&quot; href=&quot;https://cdnjs.cloudflare.com/ajax/libs/leaflet.markercluster/1.1.0/MarkerCluster.Default.css&quot;/&gt;\n    &lt;script src=&quot;https://cdn.jsdelivr.net/gh/ardhi/Leaflet.MousePosition/src/L.Control.MousePosition.min.js&quot;&gt;&lt;/script&gt;\n    &lt;link rel=&quot;stylesheet&quot; href=&quot;https://cdn.jsdelivr.net/gh/ardhi/Leaflet.MousePosition/src/L.Control.MousePosition.min.css&quot;/&gt;\n&lt;/head&gt;\n&lt;body&gt;\n    \n    \n            &lt;div class=&quot;folium-map&quot; id=&quot;map_001820d00e8bb68eade5697d30bd4bf9&quot; &gt;&lt;/div&gt;\n        \n&lt;/body&gt;\n&lt;script&gt;\n    \n    \n            var map_001820d00e8bb68eade5697d30bd4bf9 = L.map(\n                &quot;map_001820d00e8bb68eade5697d30bd4bf9&quot;,\n                {\n                    center: [29.559684888503615, -95.0830971930759],\n                    crs: L.CRS.EPSG3857,\n                    zoom: 5,\n                    zoomControl: true,\n                    preferCanvas: false,\n                }\n            );\n\n            \n\n        \n    \n            var tile_layer_83e18b2a7496645fc88f07e813cebe59 = L.tileLayer(\n                &quot;https://tile.openstreetmap.org/{z}/{x}/{y}.png&quot;,\n                {&quot;attribution&quot;: &quot;\\u0026copy; \\u003ca href=\\&quot;https://www.openstreetmap.org/copyright\\&quot;\\u003eOpenStreetMap\\u003c/a\\u003e contributors&quot;, &quot;detectRetina&quot;: false, &quot;maxNativeZoom&quot;: 19, &quot;maxZoom&quot;: 19, &quot;minZoom&quot;: 0, &quot;noWrap&quot;: false, &quot;opacity&quot;: 1, &quot;subdomains&quot;: &quot;abc&quot;, &quot;tms&quot;: false}\n            );\n        \n    \n            tile_layer_83e18b2a7496645fc88f07e813cebe59.addTo(map_001820d00e8bb68eade5697d30bd4bf9);\n        \n    \n            var marker_cluster_818f23a4a9262642a26981dd9cf80675 = L.markerClusterGroup(\n                {}\n            );\n        \n    \n            var marker_3a4c16c3838f9ebbe5a5cd0303c791ec = L.marker(\n                [28.56230197, -80.57735648],\n                {&quot;color&quot;: &quot;red&quot;}\n            ).addTo(marker_cluster_818f23a4a9262642a26981dd9cf80675);\n        \n    \n            var marker_57fce9d7eb4babc063e340ff9fc2ac4f = L.marker(\n                [28.56230197, -80.57735648],\n                {&quot;color&quot;: &quot;red&quot;}\n            ).addTo(marker_cluster_818f23a4a9262642a26981dd9cf80675);\n        \n    \n            var marker_c11990f71d6b1ff8da9c5999823ada58 = L.marker(\n                [28.56230197, -80.57735648],\n                {&quot;color&quot;: &quot;red&quot;}\n            ).addTo(marker_cluster_818f23a4a9262642a26981dd9cf80675);\n        \n    \n            var marker_ea4db3dc0cf89f0329202cb44ce78b7c = L.marker(\n                [28.56230197, -80.57735648],\n                {&quot;color&quot;: &quot;red&quot;}\n            ).addTo(marker_cluster_818f23a4a9262642a26981dd9cf80675);\n        \n    \n            var marker_fe5705cf541de79344c7e4aa20380057 = L.marker(\n                [28.56230197, -80.57735648],\n                {&quot;color&quot;: &quot;red&quot;}\n            ).addTo(marker_cluster_818f23a4a9262642a26981dd9cf80675);\n        \n    \n            var marker_8bea88cf1b5fbd4810771db83e5ad569 = L.marker(\n                [28.56230197, -80.57735648],\n                {&quot;color&quot;: &quot;red&quot;}\n            ).addTo(marker_cluster_818f23a4a9262642a26981dd9cf80675);\n        \n    \n            var marker_77c0b33a259996bc8740656b82dc77de = L.marker(\n                [28.56230197, -80.57735648],\n                {&quot;color&quot;: &quot;red&quot;}\n            ).addTo(marker_cluster_818f23a4a9262642a26981dd9cf80675);\n        \n    \n            var marker_4a5c439e1b5dd3f4ad8b976a5f1649fb = L.marker(\n                [28.56230197, -80.57735648],\n                {&quot;color&quot;: &quot;red&quot;}\n            ).addTo(marker_cluster_818f23a4a9262642a26981dd9cf80675);\n        \n    \n            var marker_7b15fd329853a3a12ca6b4f83ba4bc32 = L.marker(\n                [28.56230197, -80.57735648],\n                {&quot;color&quot;: &quot;red&quot;}\n            ).addTo(marker_cluster_818f23a4a9262642a26981dd9cf80675);\n        \n    \n            var marker_67531943c8c301ad7eba5e50f0b63fe9 = L.marker(\n                [28.56230197, -80.57735648],\n                {&quot;color&quot;: &quot;red&quot;}\n            ).addTo(marker_cluster_818f23a4a9262642a26981dd9cf80675);\n        \n    \n            var marker_2f3504769cefd5bd242eb02a640dc24b = L.marker(\n                [28.56230197, -80.57735648],\n                {&quot;color&quot;: &quot;red&quot;}\n            ).addTo(marker_cluster_818f23a4a9262642a26981dd9cf80675);\n        \n    \n            var marker_ce8854b607c27b112e826bbf0e8ce51c = L.marker(\n                [28.56230197, -80.57735648],\n                {&quot;color&quot;: &quot;red&quot;}\n            ).addTo(marker_cluster_818f23a4a9262642a26981dd9cf80675);\n        \n    \n            var marker_2d41f30e9e33cbb366b0e4d9ba2c4b9f = L.marker(\n                [28.56230197, -80.57735648],\n                {&quot;color&quot;: &quot;red&quot;}\n            ).addTo(marker_cluster_818f23a4a9262642a26981dd9cf80675);\n        \n    \n            var marker_81bbd45d9ae74c99f33883c9e6225959 = L.marker(\n                [28.56230197, -80.57735648],\n                {&quot;color&quot;: &quot;red&quot;}\n            ).addTo(marker_cluster_818f23a4a9262642a26981dd9cf80675);\n        \n    \n            var marker_528f2083243d40f3abd8a1759b876101 = L.marker(\n                [28.56230197, -80.57735648],\n                {&quot;color&quot;: &quot;red&quot;}\n            ).addTo(marker_cluster_818f23a4a9262642a26981dd9cf80675);\n        \n    \n            var marker_6ea952215d33b3ab79c061edd3945d87 = L.marker(\n                [28.56230197, -80.57735648],\n                {&quot;color&quot;: &quot;red&quot;}\n            ).addTo(marker_cluster_818f23a4a9262642a26981dd9cf80675);\n        \n    \n            var marker_bfaad8fc7accc481bfd0a4b4009ffdb2 = L.marker(\n                [28.56230197, -80.57735648],\n                {&quot;color&quot;: &quot;red&quot;}\n            ).addTo(marker_cluster_818f23a4a9262642a26981dd9cf80675);\n        \n    \n            var marker_93a9d68ad8cccd63169b2bc7dca3f849 = L.marker(\n                [28.56230197, -80.57735648],\n                {&quot;color&quot;: &quot;green&quot;}\n            ).addTo(marker_cluster_818f23a4a9262642a26981dd9cf80675);\n        \n    \n            var marker_e31179201376645640aa139832372334 = L.marker(\n                [28.56230197, -80.57735648],\n                {&quot;color&quot;: &quot;green&quot;}\n            ).addTo(marker_cluster_818f23a4a9262642a26981dd9cf80675);\n        \n    \n            var marker_53af51d3ba3f58d5df333fe732065bff = L.marker(\n                [28.56230197, -80.57735648],\n                {&quot;color&quot;: &quot;red&quot;}\n            ).addTo(marker_cluster_818f23a4a9262642a26981dd9cf80675);\n        \n    \n            var marker_1ceca26c85303a70cba0341c6d502994 = L.marker(\n                [28.56230197, -80.57735648],\n                {&quot;color&quot;: &quot;green&quot;}\n            ).addTo(marker_cluster_818f23a4a9262642a26981dd9cf80675);\n        \n    \n            var marker_4d340ecfd47dd55db5f6c8fc35ae122b = L.marker(\n                [28.56230197, -80.57735648],\n                {&quot;color&quot;: &quot;green&quot;}\n            ).addTo(marker_cluster_818f23a4a9262642a26981dd9cf80675);\n        \n    \n            var marker_7e2a6fe2e404d478d4d2236fc08e601a = L.marker(\n                [28.56230197, -80.57735648],\n                {&quot;color&quot;: &quot;green&quot;}\n            ).addTo(marker_cluster_818f23a4a9262642a26981dd9cf80675);\n        \n    \n            var marker_2654116eca3f94cfb5dc11de97b7675f = L.marker(\n                [28.56230197, -80.57735648],\n                {&quot;color&quot;: &quot;red&quot;}\n            ).addTo(marker_cluster_818f23a4a9262642a26981dd9cf80675);\n        \n    \n            var marker_829ad4541c596a31b265cb716b12cf12 = L.marker(\n                [28.56230197, -80.57735648],\n                {&quot;color&quot;: &quot;green&quot;}\n            ).addTo(marker_cluster_818f23a4a9262642a26981dd9cf80675);\n        \n    \n            var marker_0fb48c095feada31b78b7a7094a1bc32 = L.marker(\n                [28.56230197, -80.57735648],\n                {&quot;color&quot;: &quot;green&quot;}\n            ).addTo(marker_cluster_818f23a4a9262642a26981dd9cf80675);\n        \n    \n            var marker_b5c17d4c3374dfdbeb36c97b92edeb65 = L.marker(\n                [34.63283416, -120.6107455],\n                {&quot;color&quot;: &quot;red&quot;}\n            ).addTo(marker_cluster_818f23a4a9262642a26981dd9cf80675);\n        \n    \n            var marker_e27ecf0408de64ffc05304d9fb756bba = L.marker(\n                [34.63283416, -120.6107455],\n                {&quot;color&quot;: &quot;red&quot;}\n            ).addTo(marker_cluster_818f23a4a9262642a26981dd9cf80675);\n        \n    \n            var marker_dd27cf402231164c9e1c5fc463539d8d = L.marker(\n                [34.63283416, -120.6107455],\n                {&quot;color&quot;: &quot;green&quot;}\n            ).addTo(marker_cluster_818f23a4a9262642a26981dd9cf80675);\n        \n    \n            var marker_2b4156e3d5c542e9f4f979572e19ae9c = L.marker(\n                [34.63283416, -120.6107455],\n                {&quot;color&quot;: &quot;green&quot;}\n            ).addTo(marker_cluster_818f23a4a9262642a26981dd9cf80675);\n        \n    \n            var marker_fccbcaa6d2f84923891543cbcc73c029 = L.marker(\n                [34.63283416, -120.6107455],\n                {&quot;color&quot;: &quot;green&quot;}\n            ).addTo(marker_cluster_818f23a4a9262642a26981dd9cf80675);\n        \n    \n            var marker_40d69a7784123264b4588d06aa1e48a8 = L.marker(\n                [34.63283416, -120.6107455],\n                {&quot;color&quot;: &quot;green&quot;}\n            ).addTo(marker_cluster_818f23a4a9262642a26981dd9cf80675);\n        \n    \n            var marker_ae5fab116549ad6451c59a8caba0b961 = L.marker(\n                [34.63283416, -120.6107455],\n                {&quot;color&quot;: &quot;red&quot;}\n            ).addTo(marker_cluster_818f23a4a9262642a26981dd9cf80675);\n        \n    \n            var marker_769f794de1935d4df99d01c4c51e5be1 = L.marker(\n                [34.63283416, -120.6107455],\n                {&quot;color&quot;: &quot;red&quot;}\n            ).addTo(marker_cluster_818f23a4a9262642a26981dd9cf80675);\n        \n    \n            var marker_bd8e7dfba404e094fe472ffcfb06ea1a = L.marker(\n                [34.63283416, -120.6107455],\n                {&quot;color&quot;: &quot;red&quot;}\n            ).addTo(marker_cluster_818f23a4a9262642a26981dd9cf80675);\n        \n    \n            var marker_d6628fb7ca32528945b7350a5c7a967e = L.marker(\n                [34.63283416, -120.6107455],\n                {&quot;color&quot;: &quot;red&quot;}\n            ).addTo(marker_cluster_818f23a4a9262642a26981dd9cf80675);\n        \n    \n            var marker_7bd4e2a86b717c0ac51aded9b0435aa1 = L.marker(\n                [28.57325457, -80.64689529],\n                {&quot;color&quot;: &quot;green&quot;}\n            ).addTo(marker_cluster_818f23a4a9262642a26981dd9cf80675);\n        \n    \n            var marker_0f0f7aa115c535ea74871f47e2a63f9b = L.marker(\n                [28.57325457, -80.64689529],\n                {&quot;color&quot;: &quot;red&quot;}\n            ).addTo(marker_cluster_818f23a4a9262642a26981dd9cf80675);\n        \n    \n            var marker_a3ee837322284eebdc9166b6754e2b10 = L.marker(\n                [28.57325457, -80.64689529],\n                {&quot;color&quot;: &quot;green&quot;}\n            ).addTo(marker_cluster_818f23a4a9262642a26981dd9cf80675);\n        \n    \n            var marker_6be39d32d723f573aeda7cda959f2cb9 = L.marker(\n                [28.57325457, -80.64689529],\n                {&quot;color&quot;: &quot;green&quot;}\n            ).addTo(marker_cluster_818f23a4a9262642a26981dd9cf80675);\n        \n    \n            var marker_3c38d8ac6b9c0c032590d21e965e7cbe = L.marker(\n                [28.57325457, -80.64689529],\n                {&quot;color&quot;: &quot;red&quot;}\n            ).addTo(marker_cluster_818f23a4a9262642a26981dd9cf80675);\n        \n    \n            var marker_40659c828eea1b8ea51ea0067e416d11 = L.marker(\n                [28.57325457, -80.64689529],\n                {&quot;color&quot;: &quot;green&quot;}\n            ).addTo(marker_cluster_818f23a4a9262642a26981dd9cf80675);\n        \n    \n            var marker_9fd135971e28760d6facb29817153c81 = L.marker(\n                [28.57325457, -80.64689529],\n                {&quot;color&quot;: &quot;green&quot;}\n            ).addTo(marker_cluster_818f23a4a9262642a26981dd9cf80675);\n        \n    \n            var marker_f2212e1487b6156fa7ef3b248b96a93e = L.marker(\n                [28.57325457, -80.64689529],\n                {&quot;color&quot;: &quot;red&quot;}\n            ).addTo(marker_cluster_818f23a4a9262642a26981dd9cf80675);\n        \n    \n            var marker_3c3ddb0ad64e2be21289b3cb1d90656e = L.marker(\n                [28.57325457, -80.64689529],\n                {&quot;color&quot;: &quot;green&quot;}\n            ).addTo(marker_cluster_818f23a4a9262642a26981dd9cf80675);\n        \n    \n            var marker_1abd11bea13ecd3152e5923a7612b81d = L.marker(\n                [28.57325457, -80.64689529],\n                {&quot;color&quot;: &quot;green&quot;}\n            ).addTo(marker_cluster_818f23a4a9262642a26981dd9cf80675);\n        \n    \n            var marker_e2bdeab915ffc535373c03cdd897375d = L.marker(\n                [28.57325457, -80.64689529],\n                {&quot;color&quot;: &quot;green&quot;}\n            ).addTo(marker_cluster_818f23a4a9262642a26981dd9cf80675);\n        \n    \n            var marker_b644fff8f976f50289ca6a6fa2c3d91c = L.marker(\n                [28.57325457, -80.64689529],\n                {&quot;color&quot;: &quot;green&quot;}\n            ).addTo(marker_cluster_818f23a4a9262642a26981dd9cf80675);\n        \n    \n            var marker_5ae80fd99c54a2def79500b052b6af98 = L.marker(\n                [28.57325457, -80.64689529],\n                {&quot;color&quot;: &quot;green&quot;}\n            ).addTo(marker_cluster_818f23a4a9262642a26981dd9cf80675);\n        \n    \n            var marker_caf91b091f9b646583b6adb8b6c1ada3 = L.marker(\n                [28.56319718, -80.57682003],\n                {&quot;color&quot;: &quot;green&quot;}\n            ).addTo(marker_cluster_818f23a4a9262642a26981dd9cf80675);\n        \n    \n            var marker_68c99bae72e71978bed3f2587d3dd8fa = L.marker(\n                [28.56319718, -80.57682003],\n                {&quot;color&quot;: &quot;green&quot;}\n            ).addTo(marker_cluster_818f23a4a9262642a26981dd9cf80675);\n        \n    \n            var marker_394387058c0876fe2702d0ca000e0296 = L.marker(\n                [28.56319718, -80.57682003],\n                {&quot;color&quot;: &quot;red&quot;}\n            ).addTo(marker_cluster_818f23a4a9262642a26981dd9cf80675);\n        \n    \n            var marker_0904525b31abb743f6efafb0a8282b01 = L.marker(\n                [28.56319718, -80.57682003],\n                {&quot;color&quot;: &quot;red&quot;}\n            ).addTo(marker_cluster_818f23a4a9262642a26981dd9cf80675);\n        \n    \n            var marker_3258d92d468fdd76772f60df50755112 = L.marker(\n                [28.56319718, -80.57682003],\n                {&quot;color&quot;: &quot;red&quot;}\n            ).addTo(marker_cluster_818f23a4a9262642a26981dd9cf80675);\n        \n    \n            var marker_6abcf1b30940ad6b7e4599989d2217de = L.marker(\n                [28.56319718, -80.57682003],\n                {&quot;color&quot;: &quot;green&quot;}\n            ).addTo(marker_cluster_818f23a4a9262642a26981dd9cf80675);\n        \n    \n            var marker_a3c2144f98b384e12d3052291322e567 = L.marker(\n                [28.56319718, -80.57682003],\n                {&quot;color&quot;: &quot;red&quot;}\n            ).addTo(marker_cluster_818f23a4a9262642a26981dd9cf80675);\n        \n    \n            marker_cluster_818f23a4a9262642a26981dd9cf80675.addTo(map_001820d00e8bb68eade5697d30bd4bf9);\n        \n    \n            tile_layer_83e18b2a7496645fc88f07e813cebe59.addTo(map_001820d00e8bb68eade5697d30bd4bf9);\n        \n    \n            marker_cluster_818f23a4a9262642a26981dd9cf80675.addTo(map_001820d00e8bb68eade5697d30bd4bf9);\n        \n    \n            var mouse_position_789f15b8e2d92dd4919889af1d73e976 = new L.Control.MousePosition(\n                {&quot;emptyString&quot;: &quot;NaN&quot;, &quot;lngFirst&quot;: false, &quot;numDigits&quot;: 20, &quot;position&quot;: &quot;topright&quot;, &quot;prefix&quot;: &quot;Lat:&quot;, &quot;separator&quot;: &quot; Long: &quot;}\n            );\n            mouse_position_789f15b8e2d92dd4919889af1d73e976.options[&quot;latFormatter&quot;] =\n                function(num) {return L.Util.formatNum(num, 5);};;\n            mouse_position_789f15b8e2d92dd4919889af1d73e976.options[&quot;lngFormatter&quot;] =\n                function(num) {return L.Util.formatNum(num, 5);};;\n            map_001820d00e8bb68eade5697d30bd4bf9.addControl(mouse_position_789f15b8e2d92dd4919889af1d73e976);\n        \n&lt;/script&gt;\n&lt;/html&gt;\" style=\"position:absolute;width:100%;height:100%;left:0;top:0;border:none !important;\" allowfullscreen webkitallowfullscreen mozallowfullscreen></iframe></div></div>"
     },
     "metadata": {}
    }
   ],
   "execution_count": 32
  },
  {
   "cell_type": "markdown",
   "source": [
    "Now zoom in to a launch site and explore its proximity to see if you can easily find any railway, highway, coastline, etc. Move your mouse to these points and mark down their coordinates (shown on the top-left) in order to the distance to the launch site.\n"
   ],
   "metadata": {}
  },
  {
   "cell_type": "markdown",
   "source": [
    "Now zoom in to a launch site and explore its proximity to see if you can easily find any railway, highway, coastline, etc. Move your mouse to these points and mark down their coordinates (shown on the top-left) in order to the distance to the launch site.\n"
   ],
   "metadata": {}
  },
  {
   "cell_type": "code",
   "source": [
    "from math import sin, cos, sqrt, atan2, radians\n",
    "\n",
    "def calculate_distance(lat1, lon1, lat2, lon2):\n",
    "    # approximate radius of earth in km\n",
    "    R = 6373.0\n",
    "\n",
    "    lat1 = radians(lat1)\n",
    "    lon1 = radians(lon1)\n",
    "    lat2 = radians(lat2)\n",
    "    lon2 = radians(lon2)\n",
    "\n",
    "    dlon = lon2 - lon1\n",
    "    dlat = lat2 - lat1\n",
    "\n",
    "    a = sin(dlat / 2)**2 + cos(lat1) * cos(lat2) * sin(dlon / 2)**2\n",
    "    c = 2 * atan2(sqrt(a), sqrt(1 - a))\n",
    "\n",
    "    distance = R * c\n",
    "    return distance"
   ],
   "metadata": {
    "trusted": true
   },
   "outputs": [],
   "execution_count": 34
  },
  {
   "cell_type": "markdown",
   "source": [
    "*TODO:* Mark down a point on the closest coastline using MousePosition and calculate the distance between the coastline point and the launch site.\n"
   ],
   "metadata": {}
  },
  {
   "cell_type": "code",
   "source": [
    "spacex_df.head()"
   ],
   "metadata": {
    "trusted": true
   },
   "outputs": [
    {
     "execution_count": 36,
     "output_type": "execute_result",
     "data": {
      "text/plain": "   Launch Site        Lat       Long  class marker_color\n0  CCAFS LC-40  28.562302 -80.577356      0          red\n1  CCAFS LC-40  28.562302 -80.577356      0          red\n2  CCAFS LC-40  28.562302 -80.577356      0          red\n3  CCAFS LC-40  28.562302 -80.577356      0          red\n4  CCAFS LC-40  28.562302 -80.577356      0          red",
      "text/html": "<div>\n<style scoped>\n    .dataframe tbody tr th:only-of-type {\n        vertical-align: middle;\n    }\n\n    .dataframe tbody tr th {\n        vertical-align: top;\n    }\n\n    .dataframe thead th {\n        text-align: right;\n    }\n</style>\n<table border=\"1\" class=\"dataframe\">\n  <thead>\n    <tr style=\"text-align: right;\">\n      <th></th>\n      <th>Launch Site</th>\n      <th>Lat</th>\n      <th>Long</th>\n      <th>class</th>\n      <th>marker_color</th>\n    </tr>\n  </thead>\n  <tbody>\n    <tr>\n      <th>0</th>\n      <td>CCAFS LC-40</td>\n      <td>28.562302</td>\n      <td>-80.577356</td>\n      <td>0</td>\n      <td>red</td>\n    </tr>\n    <tr>\n      <th>1</th>\n      <td>CCAFS LC-40</td>\n      <td>28.562302</td>\n      <td>-80.577356</td>\n      <td>0</td>\n      <td>red</td>\n    </tr>\n    <tr>\n      <th>2</th>\n      <td>CCAFS LC-40</td>\n      <td>28.562302</td>\n      <td>-80.577356</td>\n      <td>0</td>\n      <td>red</td>\n    </tr>\n    <tr>\n      <th>3</th>\n      <td>CCAFS LC-40</td>\n      <td>28.562302</td>\n      <td>-80.577356</td>\n      <td>0</td>\n      <td>red</td>\n    </tr>\n    <tr>\n      <th>4</th>\n      <td>CCAFS LC-40</td>\n      <td>28.562302</td>\n      <td>-80.577356</td>\n      <td>0</td>\n      <td>red</td>\n    </tr>\n  </tbody>\n</table>\n</div>"
     },
     "metadata": {}
    }
   ],
   "execution_count": 36
  },
  {
   "cell_type": "code",
   "source": [
    "# find coordinate of the closet coastline\n",
    "coastline_lat=28.56367\n",
    "coastline_lon=-80.57163\n",
    "launch_site_lat=spacex_df['Lat'][0]\n",
    "launch_site_lon=spacex_df['Long'][0]\n",
    "\n",
    "distance_coastline = calculate_distance(launch_site_lat, launch_site_lon, coastline_lat, coastline_lon)\n",
    "distance_coastline"
   ],
   "metadata": {
    "trusted": true
   },
   "outputs": [
    {
     "execution_count": 38,
     "output_type": "execute_result",
     "data": {
      "text/plain": "0.5797581813109574"
     },
     "metadata": {}
    }
   ],
   "execution_count": 38
  },
  {
   "cell_type": "code",
   "source": [
    "# Create and add a folium.Marker on your selected closest coastline point on the map\n",
    "# Display the distance between coastline point and launch site using the icon property \n",
    "# for example\n",
    "distance_marker = folium.Marker(\n",
    "   coordinate,\n",
    "   icon=DivIcon(\n",
    "       icon_size=(20,20),\n",
    "       icon_anchor=(0,0),\n",
    "       html='<div style=\"font-size: 12; color:#d35400;\"><b>%s</b></div>' % \"{:10.2f} KM\".format(distance),\n",
    "       )\n",
    "   )"
   ],
   "metadata": {},
   "outputs": [],
   "execution_count": null
  },
  {
   "cell_type": "markdown",
   "source": [
    "*TODO:* Draw a `PolyLine` between a launch site to the selected coastline point\n"
   ],
   "metadata": {}
  },
  {
   "cell_type": "code",
   "source": [
    "# Create a `folium.PolyLine` object using the coastline coordinates and launch site coordinate\n",
    "lines=folium.PolyLine(locations=coordinates, weight=1)\n",
    "site_map.add_child(lines)"
   ],
   "metadata": {},
   "outputs": [],
   "execution_count": null
  },
  {
   "cell_type": "markdown",
   "source": [
    "Your updated map with distance line should look like the following screenshot:\n"
   ],
   "metadata": {}
  },
  {
   "cell_type": "markdown",
   "source": [
    "<center>\n",
    "    <img src=\"https://cf-courses-data.s3.us.cloud-object-storage.appdomain.cloud/IBM-DS0321EN-SkillsNetwork/labs/module_3/images/launch_site_marker_distance.png\">\n",
    "</center>\n"
   ],
   "metadata": {}
  },
  {
   "cell_type": "markdown",
   "source": [
    "*TODO:* Similarly, you can draw a line betwee a launch site to its closest city, railway, highway, etc. You need to use `MousePosition` to find the their coordinates on the map first\n"
   ],
   "metadata": {}
  },
  {
   "cell_type": "markdown",
   "source": [
    "A railway map symbol may look like this:\n"
   ],
   "metadata": {}
  },
  {
   "cell_type": "markdown",
   "source": [
    "<center>\n",
    "    <img src=\"https://cf-courses-data.s3.us.cloud-object-storage.appdomain.cloud/IBM-DS0321EN-SkillsNetwork/labs/module_3/images/railway.png\">\n",
    "</center>\n"
   ],
   "metadata": {}
  },
  {
   "cell_type": "markdown",
   "source": [
    "A highway map symbol may look like this:\n"
   ],
   "metadata": {}
  },
  {
   "cell_type": "markdown",
   "source": [
    "<center>\n",
    "    <img src=\"https://cf-courses-data.s3.us.cloud-object-storage.appdomain.cloud/IBM-DS0321EN-SkillsNetwork/labs/module_3/images/highway.png\">\n",
    "</center>\n"
   ],
   "metadata": {}
  },
  {
   "cell_type": "markdown",
   "source": [
    "A city map symbol may look like this:\n"
   ],
   "metadata": {}
  },
  {
   "cell_type": "markdown",
   "source": [
    "<center>\n",
    "    <img src=\"https://cf-courses-data.s3.us.cloud-object-storage.appdomain.cloud/IBM-DS0321EN-SkillsNetwork/labs/module_3/images/city.png\">\n",
    "</center>\n"
   ],
   "metadata": {}
  },
  {
   "cell_type": "code",
   "source": [
    "# Create a marker with distance to a closest city, railway, highway, etc.\n",
    "# Draw a line between the marker to the launch site\n"
   ],
   "metadata": {},
   "outputs": [],
   "execution_count": null
  },
  {
   "cell_type": "code",
   "source": [],
   "metadata": {},
   "outputs": [],
   "execution_count": null
  },
  {
   "cell_type": "code",
   "source": [],
   "metadata": {},
   "outputs": [],
   "execution_count": null
  },
  {
   "cell_type": "markdown",
   "source": [
    "After you plot distance lines to the proximities, you can answer the following questions easily:\n",
    "\n",
    "*   Are launch sites in close proximity to railways?\n",
    "*   Are launch sites in close proximity to highways?\n",
    "*   Are launch sites in close proximity to coastline?\n",
    "*   Do launch sites keep certain distance away from cities?\n",
    "\n",
    "Also please try to explain your findings.\n"
   ],
   "metadata": {}
  },
  {
   "cell_type": "markdown",
   "source": [
    "# Next Steps:\n",
    "\n",
    "Now you have discovered many interesting insights related to the launch sites' location using folium, in a very interactive way. Next, you will need to build a dashboard using Ploty Dash on detailed launch records.\n"
   ],
   "metadata": {}
  },
  {
   "cell_type": "markdown",
   "source": [
    "## Authors\n"
   ],
   "metadata": {}
  },
  {
   "cell_type": "markdown",
   "source": [
    "[Pratiksha Verma](https://www.linkedin.com/in/pratiksha-verma-6487561b1/?utm_medium=Exinfluencer&utm_source=Exinfluencer&utm_content=000026UJ&utm_term=10006555&utm_id=NA-SkillsNetwork-Channel-SkillsNetworkCoursesIBMDS0321ENSkillsNetwork865-2022-01-01)\n"
   ],
   "metadata": {}
  },
  {
   "cell_type": "markdown",
   "source": [
    "## Change Log\n"
   ],
   "metadata": {}
  },
  {
   "cell_type": "markdown",
   "source": [
    "| Date (YYYY-MM-DD) | Version | Changed By      | Change Description      |\n",
    "| ----------------- | ------- | -------------   | ----------------------- |\n",
    "| 2022-11-09        | 1.0     | Pratiksha Verma | Converted initial version to Jupyterlite|\n"
   ],
   "metadata": {}
  },
  {
   "cell_type": "markdown",
   "source": [
    "### <h3 align=\"center\"> IBM Corporation 2022. All rights reserved. <h3/>\n"
   ],
   "metadata": {}
  }
 ]
}
